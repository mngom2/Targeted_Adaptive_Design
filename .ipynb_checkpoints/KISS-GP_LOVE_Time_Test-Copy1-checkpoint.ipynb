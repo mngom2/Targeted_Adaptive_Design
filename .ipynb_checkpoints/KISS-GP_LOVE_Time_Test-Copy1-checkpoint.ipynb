{
 "cells": [
  {
   "cell_type": "markdown",
   "metadata": {},
   "source": [
    "# GPytorch KISS-GP/LOVE vs. Exact GP on CPU and GPU Numerical Experiment\n",
    "\n",
    "## Overview\n",
    "\n",
    "In this notebook, we conduct the numerical experiment for performance and accuracy of KISS-GP/LOVE vs. Exact GP, on both CPU and GPU. We see that the KISS-GP Model can significantly reduce the time for training and, when combined with LOVE, reduce the time for computing predictive distributions/covariance matrix. This, for instance, can be especially useful in settings like small-scale Bayesian optimization, where predictions need to be made at enormous numbers of candidate points.\n",
    "\n",
    "In this notebook, we will train a KISS-GP model on the `skillcraft` UCI dataset, and then compare the time required for training and computing predictive distributions with each model and on CPU vs. GPU of **ThetaGPU of Argonne National Laboratory**.\n",
    "\n",
    "Note: This notebook is based on GPytorch example notebook [GP Regression with LOVE for Fast Predictive Variances and Sampling](https://docs.gpytorch.ai/en/latest/examples/02_Scalable_Exact_GPs/Simple_GP_Regression_With_LOVE_Fast_Variances_and_Sampling.html)"
   ]
  },
  {
   "cell_type": "code",
   "execution_count": 1,
   "metadata": {},
   "outputs": [],
   "source": [
    "import math\n",
    "import torch\n",
    "import gpytorch\n",
    "import tqdm\n",
    "import numpy as np\n",
    "import time\n",
    "from matplotlib import pyplot as plt\n",
    "\n",
    "# Make plots inline\n",
    "%matplotlib inline"
   ]
  },
  {
   "cell_type": "markdown",
   "metadata": {},
   "source": [
    "### Loading Data\n",
    "\n",
    "For this example notebook, we'll be using the `elevators` UCI dataset used in the KISS-GP/LOVE paper. For this notebook, we simply split the data using the first 40% of the data as training and the last 60% as testing."
   ]
  },
  {
   "cell_type": "code",
   "execution_count": 2,
   "metadata": {},
   "outputs": [
    {
     "name": "stdout",
     "output_type": "stream",
     "text": [
      "False\n",
      "True False\n",
      "True\n"
     ]
    }
   ],
   "source": [
    "import urllib.request\n",
    "import os\n",
    "from scipy.io import loadmat\n",
    "from math import floor\n",
    "\n",
    "\n",
    "# this is for running the notebook in our testing framework\n",
    "smoke_test = ('CI' in os.environ)\n",
    "smoke_test = False\n",
    "\n",
    "print((not smoke_test) and (not os.path.isfile('../elevators.mat')))\n",
    "print(not smoke_test, (not os.path.isfile('../elevators.mat')))\n",
    "print(os.path.isfile('../elevators.mat'))\n",
    "\n",
    "if not smoke_test and not os.path.isfile('../elevators.mat'):\n",
    "    print('Downloading \\'elevators\\' UCI dataset...')\n",
    "    urllib.request.urlretrieve('https://drive.google.com/uc?export=download&id=1jhWL3YUHvXIaftia4qeAyDwVxo6j1alk', '../elevators.mat')\n",
    "\n",
    "\n",
    "if smoke_test:  # this is for running the notebook in our testing framework\n",
    "    X, y = torch.randn(100, 3), torch.randn(100)\n",
    "else:\n",
    "    data = torch.Tensor(loadmat('/home/tiany/elevators.mat')['data'])\n",
    "    X = data[:, :-1]\n",
    "    X = X - X.min(0)[0]\n",
    "    X = 2 * (X / X.max(0)[0]) - 1\n",
    "    y = data[:, -1]\n",
    "\n",
    "X_copy = X\n",
    "y_copy = y"
   ]
  },
  {
   "cell_type": "markdown",
   "metadata": {},
   "source": [
    "\"LOVE can be used with any type of GP model, including exact GPs, multitask models and scalable approximations. Here we demonstrate LOVE in conjunction with KISS-GP, which has the amazing property of producing **constant time variances.**\"\n",
    "\n",
    "## The KISS-GP + LOVE GP Model\n",
    "\n",
    "We now define the KISS-GP and Exact GP models. To use the KISS-GP Model, one would need to wrap the Kernel with the `GridInterpolationKernel` (SKI). This model uses a `GridInterpolationKernel` (SKI) with an Deep RBF base kernel. The forward method passes the input data `x` through the neural network feature extractor defined above, scales the resulting features to be between 0 and 1, and then calls the kernel.\n",
    "\n",
    "The Deep RBF kernel (DKL) uses a neural network as an initial feature extractor. In this case, we use a fully connected network with the architecture `d -> 1000 -> 500 -> 50 -> 2`, as described in the original DKL paper. All of the code below uses standard PyTorch implementations of neural network layers.\n",
    "\n",
    "**Note:** besides num_dims (the dimension of your (preprocessed) input space), the other important parameter of `GridInterpolationKernel` is `grid_size`. A bigger grid size means the result would be more accurate but the computation would be slower. One may use\n",
    "```\n",
    "grid_size = gpytorch.utils.grid.choose_grid_size(train_x, <value in (0.0, 1.0]>)\n",
    "```\n",
    "to determine the optimal grid_size."
   ]
  },
  {
   "cell_type": "markdown",
   "metadata": {},
   "source": [
    "**Note**: for the purpose of this numerical experiment, we fix the grid_size to 100, because changing the grid size would affect the speed and accuracy, which is bad for measuring time. But, as we will see, this probably makes the accuracy for covariance matrix to be non-optimal and fluctuated."
   ]
  },
  {
   "cell_type": "code",
   "execution_count": 3,
   "metadata": {},
   "outputs": [],
   "source": [
    "class LargeFeatureExtractor(torch.nn.Sequential):\n",
    "    def __init__(self, input_dim):\n",
    "        super(LargeFeatureExtractor, self).__init__()\n",
    "        self.add_module('linear1', torch.nn.Linear(input_dim, 1000))\n",
    "        self.add_module('relu1', torch.nn.ReLU())\n",
    "        self.add_module('linear2', torch.nn.Linear(1000, 500))\n",
    "        self.add_module('relu2', torch.nn.ReLU())\n",
    "        self.add_module('linear3', torch.nn.Linear(500, 50))\n",
    "        self.add_module('relu3', torch.nn.ReLU())\n",
    "        self.add_module('linear4', torch.nn.Linear(50, 2))\n",
    "\n",
    "class GPRegressionModel(gpytorch.models.ExactGP):\n",
    "    def __init__(self, train_x, train_y, likelihood):\n",
    "        super(GPRegressionModel, self).__init__(train_x, train_y, likelihood)\n",
    "        #grid_size = gpytorch.utils.grid.choose_grid_size(train_x,1.0)\n",
    "\n",
    "        self.mean_module = gpytorch.means.ConstantMean()\n",
    "        self.covar_module = gpytorch.kernels.GridInterpolationKernel(\n",
    "            gpytorch.kernels.ScaleKernel(gpytorch.kernels.RBFKernel()),\n",
    "            grid_size=100, num_dims=2,\n",
    "        )\n",
    "\n",
    "        # Also add the deep net\n",
    "        self.feature_extractor = LargeFeatureExtractor(input_dim=train_x.size(-1))\n",
    "\n",
    "    def forward(self, x):\n",
    "        # We're first putting our data through a deep net (feature extractor)\n",
    "        # We're also scaling the features so that they're nice values\n",
    "        projected_x = self.feature_extractor(x)\n",
    "        projected_x = projected_x - projected_x.min(0)[0]\n",
    "        projected_x = 2 * (projected_x / projected_x.max(0)[0]) - 1\n",
    "\n",
    "        # The rest of this looks like what we've seen\n",
    "        mean_x = self.mean_module(projected_x)\n",
    "        covar_x = self.covar_module(projected_x)\n",
    "        return gpytorch.distributions.MultivariateNormal(mean_x, covar_x)\n",
    "\n",
    "class ExactGPModel(gpytorch.models.ExactGP):\n",
    "    def __init__(self, train_x, train_y, likelihood):\n",
    "        super(ExactGPModel, self).__init__(train_x, train_y, likelihood)\n",
    "\n",
    "        self.mean_module = gpytorch.means.ConstantMean()\n",
    "        self.covar_module = gpytorch.kernels.ScaleKernel(gpytorch.kernels.RBFKernel())\n",
    "\n",
    "        # Also add the deep net\n",
    "        self.feature_extractor = LargeFeatureExtractor(input_dim=train_x.size(-1))\n",
    "\n",
    "    def forward(self, x):\n",
    "        # We're first putting our data through a deep net (feature extractor)\n",
    "        # We're also scaling the features so that they're nice values\n",
    "        projected_x = self.feature_extractor(x)\n",
    "        projected_x = projected_x - projected_x.min(0)[0]\n",
    "        projected_x = 2 * (projected_x / projected_x.max(0)[0]) - 1\n",
    "\n",
    "        # The rest of this looks like what we've seen\n",
    "        mean_x = self.mean_module(projected_x)\n",
    "        covar_x = self.covar_module(projected_x)\n",
    "        return gpytorch.distributions.MultivariateNormal(mean_x, covar_x)\n",
    "\n",
    "def train():\n",
    "    iterator = tqdm.notebook.tqdm(range(training_iterations))\n",
    "    for i in iterator:\n",
    "        optimizer.zero_grad()\n",
    "        output = model(train_x)\n",
    "        loss = -mll(output, train_y)\n",
    "        loss.backward()\n",
    "        iterator.set_postfix(loss=loss.item())\n",
    "        optimizer.step()\n",
    "        \n",
    "def train1():\n",
    "    iterator = tqdm.notebook.tqdm(range(training_iterations))\n",
    "    for i in iterator:\n",
    "        optimizer.zero_grad()\n",
    "        output = model1(train_x)\n",
    "        loss = -mll(output, train_y)\n",
    "        loss.backward()\n",
    "        iterator.set_postfix(loss=loss.item())\n",
    "        optimizer.step()"
   ]
  },
  {
   "cell_type": "markdown",
   "metadata": {},
   "source": [
    "Initialize lists to hold the running time for training and computing predictive distributions, as well as error in covariance matrix for the models and CPU and GPU"
   ]
  },
  {
   "cell_type": "code",
   "execution_count": 4,
   "metadata": {},
   "outputs": [],
   "source": [
    "kiss_training = []\n",
    "kiss_meancovar = []\n",
    "exact_training = []\n",
    "exact_meancovar = []\n",
    "\n",
    "cpu_kiss_training = []\n",
    "cpu_kiss_meancovar = []\n",
    "cpu_exact_training = []\n",
    "cpu_exact_meancovar = []\n",
    "\n",
    "covar_error = []"
   ]
  },
  {
   "cell_type": "markdown",
   "metadata": {},
   "source": [
    "# Numerical Experiment\n",
    "Next, we conduct the numerical experiment. We split it into two cells, a CPU cell with CUDA disabled and a GPU cell with CUDA enabled. (The two cells are almost the same, except that in the CPU cell we set `use_cuda` to `False`, and the running time results are stored in different arrays.) In each cell, we test the running time of KISS-GP w/. LOVE vs. Exact GP for training and computing predictive distributions.\n",
    "\n",
    "In each cell, we gradually increase the data size, from using only the first 200 data points to using all 16599 data points. More specifically, we use a for loop to loop around these sizes. In each iteration, we initialize the Exact GP Model, measure the training time, and measure the time for computing predictive distributions (without LOVE). Then, we initialize the KISS-GP model, measure the same things except this time we turn on LOVE for covariance matrix computation.\n"
   ]
  },
  {
   "cell_type": "code",
   "execution_count": 5,
   "metadata": {},
   "outputs": [],
   "source": [
    "# Create the size vector from 200 to 16599 (include all training data).\n",
    "\n",
    "size_vec = np.linspace(200, 16599, num=30, dtype=int)\n",
    "# size_vec = np.linspace(200, 10000, num=20, dtype=int)"
   ]
  },
  {
   "cell_type": "markdown",
   "metadata": {},
   "source": [
    "# The following is the CPU Cell"
   ]
  },
  {
   "cell_type": "code",
   "execution_count": 6,
   "metadata": {},
   "outputs": [
    {
     "data": {
      "application/vnd.jupyter.widget-view+json": {
       "model_id": "46d765f250be4034824e1c97d0320e62",
       "version_major": 2,
       "version_minor": 0
      },
      "text/plain": [
       "  0%|          | 0/20 [00:00<?, ?it/s]"
      ]
     },
     "metadata": {},
     "output_type": "display_data"
    },
    {
     "name": "stderr",
     "output_type": "stream",
     "text": [
      "/grand/datascience/tiany/python_venv/lib/python3.8/site-packages/gpytorch/lazy/triangular_lazy_tensor.py:136: UserWarning: torch.triangular_solve is deprecated in favor of torch.linalg.solve_triangularand will be removed in a future PyTorch release.\n",
      "torch.linalg.solve_triangular has its arguments reversed and does not return a copy of one of the inputs.\n",
      "X = torch.triangular_solve(B, A).solution\n",
      "should be replaced with\n",
      "X = torch.linalg.solve_triangular(A, B). (Triggered internally at  /lus/theta-fs0/software/thetagpu/conda/2022-07-01/pytorch/aten/src/ATen/native/BatchLinearAlgebra.cpp:2183.)\n",
      "  res = torch.triangular_solve(right_tensor, self.evaluate(), upper=self.upper).solution\n"
     ]
    },
    {
     "name": "stdout",
     "output_type": "stream",
     "text": [
      "0.40825939178466797\n",
      "Time to compute exact mean + covariances: 0.06s\n"
     ]
    },
    {
     "data": {
      "application/vnd.jupyter.widget-view+json": {
       "model_id": "b7a84dd9b32f4473b262de8c96a1445c",
       "version_major": 2,
       "version_minor": 0
      },
      "text/plain": [
       "  0%|          | 0/20 [00:00<?, ?it/s]"
      ]
     },
     "metadata": {},
     "output_type": "display_data"
    },
    {
     "name": "stdout",
     "output_type": "stream",
     "text": [
      "5.206200122833252\n",
      "Time to compute kiss mean + covariances: 0.22s\n"
     ]
    },
    {
     "data": {
      "application/vnd.jupyter.widget-view+json": {
       "model_id": "6b482f1276f947e6a8dbbacd1408d9ad",
       "version_major": 2,
       "version_minor": 0
      },
      "text/plain": [
       "  0%|          | 0/20 [00:00<?, ?it/s]"
      ]
     },
     "metadata": {},
     "output_type": "display_data"
    },
    {
     "name": "stdout",
     "output_type": "stream",
     "text": [
      "0.8910963535308838\n",
      "Time to compute exact mean + covariances: 0.07s\n"
     ]
    },
    {
     "data": {
      "application/vnd.jupyter.widget-view+json": {
       "model_id": "b6b9048ca16b46ebb14ef216c9434de3",
       "version_major": 2,
       "version_minor": 0
      },
      "text/plain": [
       "  0%|          | 0/20 [00:00<?, ?it/s]"
      ]
     },
     "metadata": {},
     "output_type": "display_data"
    },
    {
     "name": "stdout",
     "output_type": "stream",
     "text": [
      "24.696154832839966\n",
      "Time to compute kiss mean + covariances: 0.89s\n"
     ]
    },
    {
     "data": {
      "application/vnd.jupyter.widget-view+json": {
       "model_id": "53059be77f0045afa96d301288d3de98",
       "version_major": 2,
       "version_minor": 0
      },
      "text/plain": [
       "  0%|          | 0/20 [00:00<?, ?it/s]"
      ]
     },
     "metadata": {},
     "output_type": "display_data"
    },
    {
     "name": "stdout",
     "output_type": "stream",
     "text": [
      "1.395582914352417\n",
      "Time to compute exact mean + covariances: 0.03s\n"
     ]
    },
    {
     "data": {
      "application/vnd.jupyter.widget-view+json": {
       "model_id": "1e00b369d5b5478b959695b6865774ff",
       "version_major": 2,
       "version_minor": 0
      },
      "text/plain": [
       "  0%|          | 0/20 [00:00<?, ?it/s]"
      ]
     },
     "metadata": {},
     "output_type": "display_data"
    },
    {
     "name": "stdout",
     "output_type": "stream",
     "text": [
      "46.19386100769043\n",
      "Time to compute kiss mean + covariances: 1.77s\n"
     ]
    },
    {
     "data": {
      "application/vnd.jupyter.widget-view+json": {
       "model_id": "1542a5fee40746f8ad9f3db2b60bdd9c",
       "version_major": 2,
       "version_minor": 0
      },
      "text/plain": [
       "  0%|          | 0/20 [00:00<?, ?it/s]"
      ]
     },
     "metadata": {},
     "output_type": "display_data"
    },
    {
     "name": "stdout",
     "output_type": "stream",
     "text": [
      "3.0899810791015625\n",
      "Time to compute exact mean + covariances: 0.20s\n"
     ]
    },
    {
     "data": {
      "application/vnd.jupyter.widget-view+json": {
       "model_id": "e3f5d3f045ae4a3392c5feef5b0e4406",
       "version_major": 2,
       "version_minor": 0
      },
      "text/plain": [
       "  0%|          | 0/20 [00:00<?, ?it/s]"
      ]
     },
     "metadata": {},
     "output_type": "display_data"
    },
    {
     "name": "stdout",
     "output_type": "stream",
     "text": [
      "6.714686632156372\n",
      "Time to compute kiss mean + covariances: 0.80s\n"
     ]
    },
    {
     "data": {
      "application/vnd.jupyter.widget-view+json": {
       "model_id": "29c705fb823e464f942b3a99dddbf7d4",
       "version_major": 2,
       "version_minor": 0
      },
      "text/plain": [
       "  0%|          | 0/20 [00:00<?, ?it/s]"
      ]
     },
     "metadata": {},
     "output_type": "display_data"
    },
    {
     "name": "stdout",
     "output_type": "stream",
     "text": [
      "4.393195867538452\n",
      "Time to compute exact mean + covariances: 0.30s\n"
     ]
    },
    {
     "data": {
      "application/vnd.jupyter.widget-view+json": {
       "model_id": "3136c760c5ed44068f4fe416fd9c5fc4",
       "version_major": 2,
       "version_minor": 0
      },
      "text/plain": [
       "  0%|          | 0/20 [00:00<?, ?it/s]"
      ]
     },
     "metadata": {},
     "output_type": "display_data"
    },
    {
     "name": "stdout",
     "output_type": "stream",
     "text": [
      "7.109652519226074\n",
      "Time to compute kiss mean + covariances: 1.47s\n"
     ]
    },
    {
     "data": {
      "application/vnd.jupyter.widget-view+json": {
       "model_id": "4d5e33f8807041ce976f17257aaa8771",
       "version_major": 2,
       "version_minor": 0
      },
      "text/plain": [
       "  0%|          | 0/20 [00:00<?, ?it/s]"
      ]
     },
     "metadata": {},
     "output_type": "display_data"
    },
    {
     "name": "stdout",
     "output_type": "stream",
     "text": [
      "6.092081785202026\n",
      "Time to compute exact mean + covariances: 0.50s\n"
     ]
    },
    {
     "data": {
      "application/vnd.jupyter.widget-view+json": {
       "model_id": "496f9c6e65f348db84b16a0306ded8ef",
       "version_major": 2,
       "version_minor": 0
      },
      "text/plain": [
       "  0%|          | 0/20 [00:00<?, ?it/s]"
      ]
     },
     "metadata": {},
     "output_type": "display_data"
    },
    {
     "name": "stdout",
     "output_type": "stream",
     "text": [
      "7.916386604309082\n",
      "Time to compute kiss mean + covariances: 1.69s\n"
     ]
    },
    {
     "data": {
      "application/vnd.jupyter.widget-view+json": {
       "model_id": "e10e523b603141cc88e7cc94e2fbba60",
       "version_major": 2,
       "version_minor": 0
      },
      "text/plain": [
       "  0%|          | 0/20 [00:00<?, ?it/s]"
      ]
     },
     "metadata": {},
     "output_type": "display_data"
    },
    {
     "name": "stdout",
     "output_type": "stream",
     "text": [
      "8.003847360610962\n",
      "Time to compute exact mean + covariances: 0.94s\n"
     ]
    },
    {
     "data": {
      "application/vnd.jupyter.widget-view+json": {
       "model_id": "843842a07c1d4cedbb6545d4c239ab30",
       "version_major": 2,
       "version_minor": 0
      },
      "text/plain": [
       "  0%|          | 0/20 [00:00<?, ?it/s]"
      ]
     },
     "metadata": {},
     "output_type": "display_data"
    },
    {
     "name": "stdout",
     "output_type": "stream",
     "text": [
      "8.394071817398071\n",
      "Time to compute kiss mean + covariances: 2.00s\n"
     ]
    },
    {
     "data": {
      "application/vnd.jupyter.widget-view+json": {
       "model_id": "06b8fdb7d00f4da38abd56ae12aaabc4",
       "version_major": 2,
       "version_minor": 0
      },
      "text/plain": [
       "  0%|          | 0/20 [00:00<?, ?it/s]"
      ]
     },
     "metadata": {},
     "output_type": "display_data"
    },
    {
     "name": "stdout",
     "output_type": "stream",
     "text": [
      "11.111681938171387\n",
      "Time to compute exact mean + covariances: 1.28s\n"
     ]
    },
    {
     "data": {
      "application/vnd.jupyter.widget-view+json": {
       "model_id": "653a3af7bf0f468f9d2c4bdb15488ec3",
       "version_major": 2,
       "version_minor": 0
      },
      "text/plain": [
       "  0%|          | 0/20 [00:00<?, ?it/s]"
      ]
     },
     "metadata": {},
     "output_type": "display_data"
    },
    {
     "name": "stdout",
     "output_type": "stream",
     "text": [
      "9.125818014144897\n",
      "Time to compute kiss mean + covariances: 2.28s\n"
     ]
    },
    {
     "data": {
      "application/vnd.jupyter.widget-view+json": {
       "model_id": "96460a181c72438cb7d979e15823ed04",
       "version_major": 2,
       "version_minor": 0
      },
      "text/plain": [
       "  0%|          | 0/20 [00:00<?, ?it/s]"
      ]
     },
     "metadata": {},
     "output_type": "display_data"
    },
    {
     "name": "stdout",
     "output_type": "stream",
     "text": [
      "13.494176626205444\n",
      "Time to compute exact mean + covariances: 1.79s\n"
     ]
    },
    {
     "data": {
      "application/vnd.jupyter.widget-view+json": {
       "model_id": "fbae35f79b0f47f38bbe800cfc471da6",
       "version_major": 2,
       "version_minor": 0
      },
      "text/plain": [
       "  0%|          | 0/20 [00:00<?, ?it/s]"
      ]
     },
     "metadata": {},
     "output_type": "display_data"
    },
    {
     "name": "stdout",
     "output_type": "stream",
     "text": [
      "9.50312852859497\n",
      "Time to compute kiss mean + covariances: 2.52s\n"
     ]
    },
    {
     "data": {
      "application/vnd.jupyter.widget-view+json": {
       "model_id": "ba336c4bc32e49e6af99ba2feaadcf17",
       "version_major": 2,
       "version_minor": 0
      },
      "text/plain": [
       "  0%|          | 0/20 [00:00<?, ?it/s]"
      ]
     },
     "metadata": {},
     "output_type": "display_data"
    },
    {
     "name": "stdout",
     "output_type": "stream",
     "text": [
      "16.27293086051941\n",
      "Time to compute exact mean + covariances: 2.41s\n"
     ]
    },
    {
     "data": {
      "application/vnd.jupyter.widget-view+json": {
       "model_id": "bcd4e8253e5f4ca7a2d7ba1d4efbaa05",
       "version_major": 2,
       "version_minor": 0
      },
      "text/plain": [
       "  0%|          | 0/20 [00:00<?, ?it/s]"
      ]
     },
     "metadata": {},
     "output_type": "display_data"
    },
    {
     "name": "stdout",
     "output_type": "stream",
     "text": [
      "10.09701919555664\n",
      "Time to compute kiss mean + covariances: 2.81s\n"
     ]
    },
    {
     "data": {
      "application/vnd.jupyter.widget-view+json": {
       "model_id": "81aa057afdb645159cdafdde376853e7",
       "version_major": 2,
       "version_minor": 0
      },
      "text/plain": [
       "  0%|          | 0/20 [00:00<?, ?it/s]"
      ]
     },
     "metadata": {},
     "output_type": "display_data"
    },
    {
     "name": "stdout",
     "output_type": "stream",
     "text": [
      "19.87002658843994\n",
      "Time to compute exact mean + covariances: 3.20s\n"
     ]
    },
    {
     "data": {
      "application/vnd.jupyter.widget-view+json": {
       "model_id": "e83f3fe761c746a28b00353e3905d065",
       "version_major": 2,
       "version_minor": 0
      },
      "text/plain": [
       "  0%|          | 0/20 [00:00<?, ?it/s]"
      ]
     },
     "metadata": {},
     "output_type": "display_data"
    },
    {
     "name": "stdout",
     "output_type": "stream",
     "text": [
      "10.710605144500732\n",
      "Time to compute kiss mean + covariances: 3.09s\n"
     ]
    },
    {
     "data": {
      "application/vnd.jupyter.widget-view+json": {
       "model_id": "88f344f4a79144e49642ca30f6c074b0",
       "version_major": 2,
       "version_minor": 0
      },
      "text/plain": [
       "  0%|          | 0/20 [00:00<?, ?it/s]"
      ]
     },
     "metadata": {},
     "output_type": "display_data"
    },
    {
     "name": "stdout",
     "output_type": "stream",
     "text": [
      "23.00848960876465\n",
      "Time to compute exact mean + covariances: 4.29s\n"
     ]
    },
    {
     "data": {
      "application/vnd.jupyter.widget-view+json": {
       "model_id": "e942eed8ba1a4a8981684398bb2b1c6c",
       "version_major": 2,
       "version_minor": 0
      },
      "text/plain": [
       "  0%|          | 0/20 [00:00<?, ?it/s]"
      ]
     },
     "metadata": {},
     "output_type": "display_data"
    },
    {
     "name": "stdout",
     "output_type": "stream",
     "text": [
      "11.296480417251587\n",
      "Time to compute kiss mean + covariances: 3.30s\n"
     ]
    },
    {
     "data": {
      "application/vnd.jupyter.widget-view+json": {
       "model_id": "aa998efb9df04a0b886e44f204f2aabf",
       "version_major": 2,
       "version_minor": 0
      },
      "text/plain": [
       "  0%|          | 0/20 [00:00<?, ?it/s]"
      ]
     },
     "metadata": {},
     "output_type": "display_data"
    },
    {
     "name": "stdout",
     "output_type": "stream",
     "text": [
      "28.394871950149536\n",
      "Time to compute exact mean + covariances: 5.49s\n"
     ]
    },
    {
     "data": {
      "application/vnd.jupyter.widget-view+json": {
       "model_id": "93a949d700b444db9bb40a673bc5c162",
       "version_major": 2,
       "version_minor": 0
      },
      "text/plain": [
       "  0%|          | 0/20 [00:00<?, ?it/s]"
      ]
     },
     "metadata": {},
     "output_type": "display_data"
    },
    {
     "name": "stdout",
     "output_type": "stream",
     "text": [
      "12.086826086044312\n",
      "Time to compute kiss mean + covariances: 3.50s\n"
     ]
    },
    {
     "data": {
      "application/vnd.jupyter.widget-view+json": {
       "model_id": "b62758ac30894d4bb4f3554afb9e7a4e",
       "version_major": 2,
       "version_minor": 0
      },
      "text/plain": [
       "  0%|          | 0/20 [00:00<?, ?it/s]"
      ]
     },
     "metadata": {},
     "output_type": "display_data"
    },
    {
     "name": "stdout",
     "output_type": "stream",
     "text": [
      "32.38370728492737\n",
      "Time to compute exact mean + covariances: 6.68s\n"
     ]
    },
    {
     "data": {
      "application/vnd.jupyter.widget-view+json": {
       "model_id": "ec0c27c3ea19457e86d64ac794218372",
       "version_major": 2,
       "version_minor": 0
      },
      "text/plain": [
       "  0%|          | 0/20 [00:00<?, ?it/s]"
      ]
     },
     "metadata": {},
     "output_type": "display_data"
    },
    {
     "name": "stdout",
     "output_type": "stream",
     "text": [
      "12.28836727142334\n",
      "Time to compute kiss mean + covariances: 3.82s\n"
     ]
    },
    {
     "data": {
      "application/vnd.jupyter.widget-view+json": {
       "model_id": "b38d253bd21a4cb7b6c796d1a7d1d24e",
       "version_major": 2,
       "version_minor": 0
      },
      "text/plain": [
       "  0%|          | 0/20 [00:00<?, ?it/s]"
      ]
     },
     "metadata": {},
     "output_type": "display_data"
    },
    {
     "name": "stdout",
     "output_type": "stream",
     "text": [
      "37.11277461051941\n",
      "Time to compute exact mean + covariances: 8.17s\n"
     ]
    },
    {
     "data": {
      "application/vnd.jupyter.widget-view+json": {
       "model_id": "f5149c176bc340adb21f0c7948a0ae34",
       "version_major": 2,
       "version_minor": 0
      },
      "text/plain": [
       "  0%|          | 0/20 [00:00<?, ?it/s]"
      ]
     },
     "metadata": {},
     "output_type": "display_data"
    },
    {
     "name": "stdout",
     "output_type": "stream",
     "text": [
      "12.90201187133789\n",
      "Time to compute kiss mean + covariances: 4.02s\n"
     ]
    },
    {
     "data": {
      "application/vnd.jupyter.widget-view+json": {
       "model_id": "f57da9f6af9146fd8940be7ed1a72b07",
       "version_major": 2,
       "version_minor": 0
      },
      "text/plain": [
       "  0%|          | 0/20 [00:00<?, ?it/s]"
      ]
     },
     "metadata": {},
     "output_type": "display_data"
    },
    {
     "name": "stdout",
     "output_type": "stream",
     "text": [
      "42.89706611633301\n",
      "Time to compute exact mean + covariances: 9.58s\n"
     ]
    },
    {
     "data": {
      "application/vnd.jupyter.widget-view+json": {
       "model_id": "76e0effdec394b0197a399b93dfe2103",
       "version_major": 2,
       "version_minor": 0
      },
      "text/plain": [
       "  0%|          | 0/20 [00:00<?, ?it/s]"
      ]
     },
     "metadata": {},
     "output_type": "display_data"
    },
    {
     "name": "stdout",
     "output_type": "stream",
     "text": [
      "13.484611749649048\n",
      "Time to compute kiss mean + covariances: 4.30s\n"
     ]
    },
    {
     "data": {
      "application/vnd.jupyter.widget-view+json": {
       "model_id": "0b214f84ead94fae983fbc3569d9f2c4",
       "version_major": 2,
       "version_minor": 0
      },
      "text/plain": [
       "  0%|          | 0/20 [00:00<?, ?it/s]"
      ]
     },
     "metadata": {},
     "output_type": "display_data"
    },
    {
     "name": "stdout",
     "output_type": "stream",
     "text": [
      "48.088608503341675\n",
      "Time to compute exact mean + covariances: 11.01s\n"
     ]
    },
    {
     "data": {
      "application/vnd.jupyter.widget-view+json": {
       "model_id": "4cc8b51479a24888afc9abcad1320e0e",
       "version_major": 2,
       "version_minor": 0
      },
      "text/plain": [
       "  0%|          | 0/20 [00:00<?, ?it/s]"
      ]
     },
     "metadata": {},
     "output_type": "display_data"
    },
    {
     "name": "stdout",
     "output_type": "stream",
     "text": [
      "14.021352767944336\n",
      "Time to compute kiss mean + covariances: 4.59s\n"
     ]
    },
    {
     "data": {
      "application/vnd.jupyter.widget-view+json": {
       "model_id": "2707fc5d4a264b2caa1d2edaca44d70e",
       "version_major": 2,
       "version_minor": 0
      },
      "text/plain": [
       "  0%|          | 0/20 [00:00<?, ?it/s]"
      ]
     },
     "metadata": {},
     "output_type": "display_data"
    },
    {
     "name": "stdout",
     "output_type": "stream",
     "text": [
      "54.06220602989197\n",
      "Time to compute exact mean + covariances: 12.70s\n"
     ]
    },
    {
     "data": {
      "application/vnd.jupyter.widget-view+json": {
       "model_id": "42a41dfd2ab04485964e036502b42fe9",
       "version_major": 2,
       "version_minor": 0
      },
      "text/plain": [
       "  0%|          | 0/20 [00:00<?, ?it/s]"
      ]
     },
     "metadata": {},
     "output_type": "display_data"
    },
    {
     "name": "stdout",
     "output_type": "stream",
     "text": [
      "14.989052534103394\n",
      "Time to compute kiss mean + covariances: 4.81s\n"
     ]
    },
    {
     "data": {
      "application/vnd.jupyter.widget-view+json": {
       "model_id": "cda00aa1106e4102bb188a8bdc768b6c",
       "version_major": 2,
       "version_minor": 0
      },
      "text/plain": [
       "  0%|          | 0/20 [00:00<?, ?it/s]"
      ]
     },
     "metadata": {},
     "output_type": "display_data"
    },
    {
     "name": "stdout",
     "output_type": "stream",
     "text": [
      "61.60032653808594\n",
      "Time to compute exact mean + covariances: 14.80s\n"
     ]
    },
    {
     "data": {
      "application/vnd.jupyter.widget-view+json": {
       "model_id": "626f43675cc046ee9f6657903b40d1d8",
       "version_major": 2,
       "version_minor": 0
      },
      "text/plain": [
       "  0%|          | 0/20 [00:00<?, ?it/s]"
      ]
     },
     "metadata": {},
     "output_type": "display_data"
    },
    {
     "name": "stdout",
     "output_type": "stream",
     "text": [
      "15.000150918960571\n",
      "Time to compute kiss mean + covariances: 5.10s\n"
     ]
    },
    {
     "data": {
      "application/vnd.jupyter.widget-view+json": {
       "model_id": "bd7544c053594c41bc6a325c8d107263",
       "version_major": 2,
       "version_minor": 0
      },
      "text/plain": [
       "  0%|          | 0/20 [00:00<?, ?it/s]"
      ]
     },
     "metadata": {},
     "output_type": "display_data"
    },
    {
     "name": "stdout",
     "output_type": "stream",
     "text": [
      "66.39278507232666\n",
      "Time to compute exact mean + covariances: 16.70s\n"
     ]
    },
    {
     "data": {
      "application/vnd.jupyter.widget-view+json": {
       "model_id": "ea8415caa24e4ffab3eca8f03212e8ff",
       "version_major": 2,
       "version_minor": 0
      },
      "text/plain": [
       "  0%|          | 0/20 [00:00<?, ?it/s]"
      ]
     },
     "metadata": {},
     "output_type": "display_data"
    },
    {
     "name": "stdout",
     "output_type": "stream",
     "text": [
      "15.504727840423584\n",
      "Time to compute kiss mean + covariances: 5.46s\n"
     ]
    },
    {
     "data": {
      "application/vnd.jupyter.widget-view+json": {
       "model_id": "d1d7fcb476724af4a5e6228d57c3a050",
       "version_major": 2,
       "version_minor": 0
      },
      "text/plain": [
       "  0%|          | 0/20 [00:00<?, ?it/s]"
      ]
     },
     "metadata": {},
     "output_type": "display_data"
    },
    {
     "name": "stdout",
     "output_type": "stream",
     "text": [
      "74.72967910766602\n",
      "Time to compute exact mean + covariances: 19.00s\n"
     ]
    },
    {
     "data": {
      "application/vnd.jupyter.widget-view+json": {
       "model_id": "0e0b1d290e734bed9a9a90113033cf8a",
       "version_major": 2,
       "version_minor": 0
      },
      "text/plain": [
       "  0%|          | 0/20 [00:00<?, ?it/s]"
      ]
     },
     "metadata": {},
     "output_type": "display_data"
    },
    {
     "name": "stdout",
     "output_type": "stream",
     "text": [
      "16.089683055877686\n",
      "Time to compute kiss mean + covariances: 5.91s\n"
     ]
    },
    {
     "data": {
      "application/vnd.jupyter.widget-view+json": {
       "model_id": "9584bc0257f042d1beef37632d2ea0e8",
       "version_major": 2,
       "version_minor": 0
      },
      "text/plain": [
       "  0%|          | 0/20 [00:00<?, ?it/s]"
      ]
     },
     "metadata": {},
     "output_type": "display_data"
    },
    {
     "name": "stdout",
     "output_type": "stream",
     "text": [
      "82.13886904716492\n",
      "Time to compute exact mean + covariances: 21.26s\n"
     ]
    },
    {
     "data": {
      "application/vnd.jupyter.widget-view+json": {
       "model_id": "38c421a4a2a1459a8a4896eda74043c4",
       "version_major": 2,
       "version_minor": 0
      },
      "text/plain": [
       "  0%|          | 0/20 [00:00<?, ?it/s]"
      ]
     },
     "metadata": {},
     "output_type": "display_data"
    },
    {
     "name": "stdout",
     "output_type": "stream",
     "text": [
      "16.803810358047485\n",
      "Time to compute kiss mean + covariances: 6.09s\n"
     ]
    },
    {
     "data": {
      "application/vnd.jupyter.widget-view+json": {
       "model_id": "0f738a6da1e24c58ace9d017faab8288",
       "version_major": 2,
       "version_minor": 0
      },
      "text/plain": [
       "  0%|          | 0/20 [00:00<?, ?it/s]"
      ]
     },
     "metadata": {},
     "output_type": "display_data"
    },
    {
     "name": "stdout",
     "output_type": "stream",
     "text": [
      "87.69165301322937\n",
      "Time to compute exact mean + covariances: 24.02s\n"
     ]
    },
    {
     "data": {
      "application/vnd.jupyter.widget-view+json": {
       "model_id": "605c839c68724cd08aa0aa534a85ee8f",
       "version_major": 2,
       "version_minor": 0
      },
      "text/plain": [
       "  0%|          | 0/20 [00:00<?, ?it/s]"
      ]
     },
     "metadata": {},
     "output_type": "display_data"
    },
    {
     "name": "stdout",
     "output_type": "stream",
     "text": [
      "17.512535095214844\n",
      "Time to compute kiss mean + covariances: 4.88s\n"
     ]
    },
    {
     "data": {
      "application/vnd.jupyter.widget-view+json": {
       "model_id": "944e36cc733141c5b0cdc881e1b35cec",
       "version_major": 2,
       "version_minor": 0
      },
      "text/plain": [
       "  0%|          | 0/20 [00:00<?, ?it/s]"
      ]
     },
     "metadata": {},
     "output_type": "display_data"
    },
    {
     "name": "stdout",
     "output_type": "stream",
     "text": [
      "97.28866195678711\n",
      "Time to compute exact mean + covariances: 26.71s\n"
     ]
    },
    {
     "data": {
      "application/vnd.jupyter.widget-view+json": {
       "model_id": "9a44db2056aa40fba84c9a442609a2b1",
       "version_major": 2,
       "version_minor": 0
      },
      "text/plain": [
       "  0%|          | 0/20 [00:00<?, ?it/s]"
      ]
     },
     "metadata": {},
     "output_type": "display_data"
    },
    {
     "name": "stdout",
     "output_type": "stream",
     "text": [
      "18.19855809211731\n",
      "Time to compute kiss mean + covariances: 6.69s\n"
     ]
    },
    {
     "data": {
      "application/vnd.jupyter.widget-view+json": {
       "model_id": "d267a9922a4b44a2ac5f27b3acd47c39",
       "version_major": 2,
       "version_minor": 0
      },
      "text/plain": [
       "  0%|          | 0/20 [00:00<?, ?it/s]"
      ]
     },
     "metadata": {},
     "output_type": "display_data"
    },
    {
     "name": "stdout",
     "output_type": "stream",
     "text": [
      "104.97685980796814\n",
      "Time to compute exact mean + covariances: 30.09s\n"
     ]
    },
    {
     "data": {
      "application/vnd.jupyter.widget-view+json": {
       "model_id": "fbc5164a4ed94cee9531bbbb0075e925",
       "version_major": 2,
       "version_minor": 0
      },
      "text/plain": [
       "  0%|          | 0/20 [00:00<?, ?it/s]"
      ]
     },
     "metadata": {},
     "output_type": "display_data"
    },
    {
     "name": "stdout",
     "output_type": "stream",
     "text": [
      "18.49667453765869\n",
      "Time to compute kiss mean + covariances: 5.59s\n"
     ]
    },
    {
     "data": {
      "application/vnd.jupyter.widget-view+json": {
       "model_id": "e734c9efd9fc48a2ba136e0a780383a4",
       "version_major": 2,
       "version_minor": 0
      },
      "text/plain": [
       "  0%|          | 0/20 [00:00<?, ?it/s]"
      ]
     },
     "metadata": {},
     "output_type": "display_data"
    },
    {
     "name": "stdout",
     "output_type": "stream",
     "text": [
      "113.50553727149963\n",
      "Time to compute exact mean + covariances: 32.71s\n"
     ]
    },
    {
     "data": {
      "application/vnd.jupyter.widget-view+json": {
       "model_id": "2f34405262c6413799f87a771b968803",
       "version_major": 2,
       "version_minor": 0
      },
      "text/plain": [
       "  0%|          | 0/20 [00:00<?, ?it/s]"
      ]
     },
     "metadata": {},
     "output_type": "display_data"
    },
    {
     "name": "stdout",
     "output_type": "stream",
     "text": [
      "19.113271236419678\n",
      "Time to compute kiss mean + covariances: 7.20s\n"
     ]
    },
    {
     "data": {
      "application/vnd.jupyter.widget-view+json": {
       "model_id": "583e21ac06014e5987e6ac94c4ef4936",
       "version_major": 2,
       "version_minor": 0
      },
      "text/plain": [
       "  0%|          | 0/20 [00:00<?, ?it/s]"
      ]
     },
     "metadata": {},
     "output_type": "display_data"
    },
    {
     "name": "stdout",
     "output_type": "stream",
     "text": [
      "123.52659487724304\n",
      "Time to compute exact mean + covariances: 36.48s\n"
     ]
    },
    {
     "data": {
      "application/vnd.jupyter.widget-view+json": {
       "model_id": "34284bb613e44f96816a5fada1098fc4",
       "version_major": 2,
       "version_minor": 0
      },
      "text/plain": [
       "  0%|          | 0/20 [00:00<?, ?it/s]"
      ]
     },
     "metadata": {},
     "output_type": "display_data"
    },
    {
     "name": "stdout",
     "output_type": "stream",
     "text": [
      "19.6229510307312\n",
      "Time to compute kiss mean + covariances: 7.67s\n"
     ]
    },
    {
     "data": {
      "application/vnd.jupyter.widget-view+json": {
       "model_id": "d9bddedcbda842b393dd69d8ac8e3d50",
       "version_major": 2,
       "version_minor": 0
      },
      "text/plain": [
       "  0%|          | 0/20 [00:00<?, ?it/s]"
      ]
     },
     "metadata": {},
     "output_type": "display_data"
    },
    {
     "name": "stdout",
     "output_type": "stream",
     "text": [
      "129.13533878326416\n",
      "Time to compute exact mean + covariances: 40.30s\n"
     ]
    },
    {
     "data": {
      "application/vnd.jupyter.widget-view+json": {
       "model_id": "09b9ddd6b1694b49be5bb19c16fc01c8",
       "version_major": 2,
       "version_minor": 0
      },
      "text/plain": [
       "  0%|          | 0/20 [00:00<?, ?it/s]"
      ]
     },
     "metadata": {},
     "output_type": "display_data"
    },
    {
     "name": "stdout",
     "output_type": "stream",
     "text": [
      "20.118438005447388\n",
      "Time to compute kiss mean + covariances: 8.01s\n"
     ]
    },
    {
     "data": {
      "application/vnd.jupyter.widget-view+json": {
       "model_id": "699999bb6f4042b8b711c4a23126e38a",
       "version_major": 2,
       "version_minor": 0
      },
      "text/plain": [
       "  0%|          | 0/20 [00:00<?, ?it/s]"
      ]
     },
     "metadata": {},
     "output_type": "display_data"
    },
    {
     "name": "stdout",
     "output_type": "stream",
     "text": [
      "140.7780520915985\n",
      "Time to compute exact mean + covariances: 44.61s\n"
     ]
    },
    {
     "data": {
      "application/vnd.jupyter.widget-view+json": {
       "model_id": "b49c641eb4b94f5ca656c7dd88e4e4e0",
       "version_major": 2,
       "version_minor": 0
      },
      "text/plain": [
       "  0%|          | 0/20 [00:00<?, ?it/s]"
      ]
     },
     "metadata": {},
     "output_type": "display_data"
    },
    {
     "name": "stdout",
     "output_type": "stream",
     "text": [
      "20.593857765197754\n",
      "Time to compute kiss mean + covariances: 8.28s\n"
     ]
    },
    {
     "data": {
      "application/vnd.jupyter.widget-view+json": {
       "model_id": "c1bf6c0311be4eaa938ac180a6f8acc1",
       "version_major": 2,
       "version_minor": 0
      },
      "text/plain": [
       "  0%|          | 0/20 [00:00<?, ?it/s]"
      ]
     },
     "metadata": {},
     "output_type": "display_data"
    },
    {
     "name": "stdout",
     "output_type": "stream",
     "text": [
      "151.60267996788025\n",
      "Time to compute exact mean + covariances: 50.51s\n"
     ]
    },
    {
     "data": {
      "application/vnd.jupyter.widget-view+json": {
       "model_id": "231b6d9d9ba947ffa6c984a2797e0d44",
       "version_major": 2,
       "version_minor": 0
      },
      "text/plain": [
       "  0%|          | 0/20 [00:00<?, ?it/s]"
      ]
     },
     "metadata": {},
     "output_type": "display_data"
    },
    {
     "name": "stdout",
     "output_type": "stream",
     "text": [
      "21.177509784698486\n",
      "Time to compute kiss mean + covariances: 7.22s\n"
     ]
    }
   ],
   "source": [
    "use_cuda = False\n",
    "\n",
    "for size in size_vec:\n",
    "    X = X_copy[0:size, :]\n",
    "    y = y_copy[:size]\n",
    "    \n",
    "    train_n = int(floor(0.6 * len(X)))\n",
    "    train_x = X[:train_n, :].contiguous()\n",
    "    train_y = y[:train_n].contiguous()\n",
    "\n",
    "    test_x = X[train_n:, :].contiguous()\n",
    "    test_y = y[train_n:].contiguous()\n",
    "\n",
    "    if use_cuda:\n",
    "        train_x, train_y, test_x, test_y = train_x.cuda(), train_y.cuda(), test_x.cuda(), test_y.cuda()\n",
    "    \n",
    "    \n",
    "    #### Exact GP Model ####\n",
    "    \n",
    "    likelihood1 = gpytorch.likelihoods.GaussianLikelihood()\n",
    "    model1 = ExactGPModel(train_x, train_y, likelihood1)\n",
    "\n",
    "    if use_cuda:\n",
    "        model1 = model1.cuda()\n",
    "        likelihood1 = likelihood1.cuda()\n",
    "\n",
    "    training_iterations = 1 if smoke_test else 20\n",
    "\n",
    "    # Find optimal model hyperparameters\n",
    "    model1.train()\n",
    "    likelihood1.train()\n",
    "\n",
    "    # Use the adam optimizer\n",
    "    optimizer = torch.optim.Adam(model1.parameters(), lr=0.1)  # Includes GaussianLikelihood parameters\n",
    "\n",
    "    # \"Loss\" for GPs - the marginal log likelihood\n",
    "    mll = gpytorch.mlls.ExactMarginalLogLikelihood(likelihood1, model1)\n",
    "\n",
    "    with gpytorch.settings.min_preconditioning_size(15000):\n",
    "        start_time = time.time()\n",
    "        train1()\n",
    "        cpu_exact_training_time = time.time() - start_time\n",
    "    print(cpu_exact_training_time)\n",
    "    cpu_exact_training.append(cpu_exact_training_time)\n",
    "        \n",
    "    # Compute Predictive Distribution \n",
    "    model1.eval()\n",
    "    likelihood1.eval()\n",
    "\n",
    "    with torch.no_grad():\n",
    "        start_time = time.time()\n",
    "        preds = likelihood1(model1(test_x))\n",
    "        exact_covar = preds.covariance_matrix\n",
    "        exact_covar_time = time.time() - start_time\n",
    "\n",
    "    cpu_exact_meancovar.append(exact_covar_time)\n",
    "    print(f\"Time to compute exact mean + covariances: {exact_covar_time:.2f}s\")\n",
    "    \n",
    "    \n",
    "\n",
    "   #### KISS-GP Model ####\n",
    "    likelihood = gpytorch.likelihoods.GaussianLikelihood()\n",
    "    model = GPRegressionModel(train_x, train_y, likelihood)\n",
    "\n",
    "    if use_cuda:\n",
    "        model = model.cuda()\n",
    "        likelihood = likelihood.cuda()\n",
    "\n",
    "    training_iterations = 1 if smoke_test else 20\n",
    "\n",
    "    # Find optimal model hyperparameters\n",
    "    model.train()\n",
    "    likelihood.train()\n",
    "\n",
    "    # Use the adam optimizer\n",
    "    optimizer = torch.optim.Adam(model.parameters(), lr=0.1)  # Includes GaussianLikelihood parameters\n",
    "\n",
    "    # \"Loss\" for GPs - the marginal log likelihood\n",
    "    mll = gpytorch.mlls.ExactMarginalLogLikelihood(likelihood, model)\n",
    "\n",
    "    with gpytorch.settings.min_preconditioning_size(15000):\n",
    "        start_time = time.time()\n",
    "        train()\n",
    "        cpu_kiss_training_time = time.time() - start_time\n",
    "    print(cpu_kiss_training_time)\n",
    "    cpu_kiss_training.append(cpu_kiss_training_time)\n",
    "        \n",
    "    # Compute Predictive Distribution \n",
    "    model.eval()\n",
    "    likelihood.eval()\n",
    "\n",
    "    # KISS-GP/LOVE\n",
    "    with torch.no_grad(), gpytorch.settings.fast_pred_var():\n",
    "        start_time = time.time()\n",
    "        preds = likelihood(model(test_x))\n",
    "        kiss_covar = preds.covariance_matrix\n",
    "        kiss_meancovar_time = time.time() - start_time\n",
    "        cpu_kiss_meancovar.append(kiss_meancovar_time)\n",
    "    print(f\"Time to compute kiss mean + covariances: {kiss_meancovar_time:.2f}s\")\n",
    "    \n",
    "    \n",
    "#     mae = ((exact_covar) - (kiss_covar)).abs().mean()\n",
    "#     print(f\"MAE between exact covar matrix and fast covar matrix: {mae:.6f}\")\n",
    "#     covar_error.append(mae.item())"
   ]
  },
  {
   "cell_type": "markdown",
   "metadata": {},
   "source": [
    "# The following is the GPU Cell"
   ]
  },
  {
   "cell_type": "code",
   "execution_count": 7,
   "metadata": {},
   "outputs": [
    {
     "data": {
      "application/vnd.jupyter.widget-view+json": {
       "model_id": "b39ad71fcd2948f88129c73289b5cc69",
       "version_major": 2,
       "version_minor": 0
      },
      "text/plain": [
       "  0%|          | 0/20 [00:00<?, ?it/s]"
      ]
     },
     "metadata": {},
     "output_type": "display_data"
    },
    {
     "name": "stdout",
     "output_type": "stream",
     "text": [
      "1.506025791168213\n",
      "Time to compute exact mean + covariances: 0.04s\n"
     ]
    },
    {
     "data": {
      "application/vnd.jupyter.widget-view+json": {
       "model_id": "74bb295ddc0740a79f7843b58e3ba444",
       "version_major": 2,
       "version_minor": 0
      },
      "text/plain": [
       "  0%|          | 0/20 [00:00<?, ?it/s]"
      ]
     },
     "metadata": {},
     "output_type": "display_data"
    },
    {
     "name": "stdout",
     "output_type": "stream",
     "text": [
      "0.7272665500640869\n",
      "Time to compute kiss mean + covariances: 0.07s\n",
      "MAE between exact covar matrix and fast covar matrix: 0.005970\n"
     ]
    },
    {
     "data": {
      "application/vnd.jupyter.widget-view+json": {
       "model_id": "bc17e9d3790547df9bb6d8db80380066",
       "version_major": 2,
       "version_minor": 0
      },
      "text/plain": [
       "  0%|          | 0/20 [00:00<?, ?it/s]"
      ]
     },
     "metadata": {},
     "output_type": "display_data"
    },
    {
     "name": "stdout",
     "output_type": "stream",
     "text": [
      "0.1355583667755127\n",
      "Time to compute exact mean + covariances: 0.01s\n"
     ]
    },
    {
     "data": {
      "application/vnd.jupyter.widget-view+json": {
       "model_id": "10ad7350e07248b6b8ab86ece0f3359a",
       "version_major": 2,
       "version_minor": 0
      },
      "text/plain": [
       "  0%|          | 0/20 [00:00<?, ?it/s]"
      ]
     },
     "metadata": {},
     "output_type": "display_data"
    },
    {
     "name": "stdout",
     "output_type": "stream",
     "text": [
      "0.5602705478668213\n",
      "Time to compute kiss mean + covariances: 0.06s\n",
      "MAE between exact covar matrix and fast covar matrix: 0.000092\n"
     ]
    },
    {
     "data": {
      "application/vnd.jupyter.widget-view+json": {
       "model_id": "a27d4a31967d4c82aabd04122a2539dc",
       "version_major": 2,
       "version_minor": 0
      },
      "text/plain": [
       "  0%|          | 0/20 [00:00<?, ?it/s]"
      ]
     },
     "metadata": {},
     "output_type": "display_data"
    },
    {
     "name": "stdout",
     "output_type": "stream",
     "text": [
      "0.17122173309326172\n",
      "Time to compute exact mean + covariances: 0.01s\n"
     ]
    },
    {
     "data": {
      "application/vnd.jupyter.widget-view+json": {
       "model_id": "a8f628b65d954082b59f60b5b263ca73",
       "version_major": 2,
       "version_minor": 0
      },
      "text/plain": [
       "  0%|          | 0/20 [00:00<?, ?it/s]"
      ]
     },
     "metadata": {},
     "output_type": "display_data"
    },
    {
     "name": "stdout",
     "output_type": "stream",
     "text": [
      "0.8093931674957275\n",
      "Time to compute kiss mean + covariances: 0.07s\n",
      "MAE between exact covar matrix and fast covar matrix: 0.002000\n"
     ]
    },
    {
     "data": {
      "application/vnd.jupyter.widget-view+json": {
       "model_id": "bd249992231a4cf095f46ac84ace0839",
       "version_major": 2,
       "version_minor": 0
      },
      "text/plain": [
       "  0%|          | 0/20 [00:00<?, ?it/s]"
      ]
     },
     "metadata": {},
     "output_type": "display_data"
    },
    {
     "name": "stdout",
     "output_type": "stream",
     "text": [
      "0.3124551773071289\n",
      "Time to compute exact mean + covariances: 0.01s\n"
     ]
    },
    {
     "data": {
      "application/vnd.jupyter.widget-view+json": {
       "model_id": "be6e8a75b7954190bdb1651deb25a69b",
       "version_major": 2,
       "version_minor": 0
      },
      "text/plain": [
       "  0%|          | 0/20 [00:00<?, ?it/s]"
      ]
     },
     "metadata": {},
     "output_type": "display_data"
    },
    {
     "name": "stdout",
     "output_type": "stream",
     "text": [
      "1.152217149734497\n",
      "Time to compute kiss mean + covariances: 0.19s\n",
      "MAE between exact covar matrix and fast covar matrix: 0.010618\n"
     ]
    },
    {
     "data": {
      "application/vnd.jupyter.widget-view+json": {
       "model_id": "6cbf1171178541e78f3bad5b0ee7cbcf",
       "version_major": 2,
       "version_minor": 0
      },
      "text/plain": [
       "  0%|          | 0/20 [00:00<?, ?it/s]"
      ]
     },
     "metadata": {},
     "output_type": "display_data"
    },
    {
     "name": "stdout",
     "output_type": "stream",
     "text": [
      "0.3746638298034668\n",
      "Time to compute exact mean + covariances: 0.01s\n"
     ]
    },
    {
     "data": {
      "application/vnd.jupyter.widget-view+json": {
       "model_id": "4a8f22bca4134a9eac927d4d7af9209f",
       "version_major": 2,
       "version_minor": 0
      },
      "text/plain": [
       "  0%|          | 0/20 [00:00<?, ?it/s]"
      ]
     },
     "metadata": {},
     "output_type": "display_data"
    },
    {
     "name": "stdout",
     "output_type": "stream",
     "text": [
      "1.1452271938323975\n",
      "Time to compute kiss mean + covariances: 0.25s\n",
      "MAE between exact covar matrix and fast covar matrix: 0.000732\n"
     ]
    },
    {
     "data": {
      "application/vnd.jupyter.widget-view+json": {
       "model_id": "65c027bbae27494bacd31569a5a60b0c",
       "version_major": 2,
       "version_minor": 0
      },
      "text/plain": [
       "  0%|          | 0/20 [00:00<?, ?it/s]"
      ]
     },
     "metadata": {},
     "output_type": "display_data"
    },
    {
     "name": "stdout",
     "output_type": "stream",
     "text": [
      "0.31291675567626953\n",
      "Time to compute exact mean + covariances: 0.02s\n"
     ]
    },
    {
     "data": {
      "application/vnd.jupyter.widget-view+json": {
       "model_id": "af340450b19b4a62b3942aa668bddf1e",
       "version_major": 2,
       "version_minor": 0
      },
      "text/plain": [
       "  0%|          | 0/20 [00:00<?, ?it/s]"
      ]
     },
     "metadata": {},
     "output_type": "display_data"
    },
    {
     "name": "stdout",
     "output_type": "stream",
     "text": [
      "1.1459217071533203\n",
      "Time to compute kiss mean + covariances: 0.29s\n",
      "MAE between exact covar matrix and fast covar matrix: 0.001882\n"
     ]
    },
    {
     "data": {
      "application/vnd.jupyter.widget-view+json": {
       "model_id": "16b76a5f2f834897822f70910eb3049f",
       "version_major": 2,
       "version_minor": 0
      },
      "text/plain": [
       "  0%|          | 0/20 [00:00<?, ?it/s]"
      ]
     },
     "metadata": {},
     "output_type": "display_data"
    },
    {
     "name": "stdout",
     "output_type": "stream",
     "text": [
      "0.44328832626342773\n",
      "Time to compute exact mean + covariances: 0.04s\n"
     ]
    },
    {
     "data": {
      "application/vnd.jupyter.widget-view+json": {
       "model_id": "8a6ea867e26643f8b99eba08f6fdb655",
       "version_major": 2,
       "version_minor": 0
      },
      "text/plain": [
       "  0%|          | 0/20 [00:00<?, ?it/s]"
      ]
     },
     "metadata": {},
     "output_type": "display_data"
    },
    {
     "name": "stdout",
     "output_type": "stream",
     "text": [
      "1.276669979095459\n",
      "Time to compute kiss mean + covariances: 0.34s\n",
      "MAE between exact covar matrix and fast covar matrix: 0.001691\n"
     ]
    },
    {
     "data": {
      "application/vnd.jupyter.widget-view+json": {
       "model_id": "9e4363f0ad0143debcd5e8160c791caa",
       "version_major": 2,
       "version_minor": 0
      },
      "text/plain": [
       "  0%|          | 0/20 [00:00<?, ?it/s]"
      ]
     },
     "metadata": {},
     "output_type": "display_data"
    },
    {
     "name": "stdout",
     "output_type": "stream",
     "text": [
      "0.44029974937438965\n",
      "Time to compute exact mean + covariances: 0.05s\n"
     ]
    },
    {
     "data": {
      "application/vnd.jupyter.widget-view+json": {
       "model_id": "5c903e839a484d87a25435c61cd4a246",
       "version_major": 2,
       "version_minor": 0
      },
      "text/plain": [
       "  0%|          | 0/20 [00:00<?, ?it/s]"
      ]
     },
     "metadata": {},
     "output_type": "display_data"
    },
    {
     "name": "stdout",
     "output_type": "stream",
     "text": [
      "1.1621503829956055\n",
      "Time to compute kiss mean + covariances: 0.29s\n",
      "MAE between exact covar matrix and fast covar matrix: 0.001995\n"
     ]
    },
    {
     "data": {
      "application/vnd.jupyter.widget-view+json": {
       "model_id": "7fe7dee88f6d44e78cefce8a8a5fd8c6",
       "version_major": 2,
       "version_minor": 0
      },
      "text/plain": [
       "  0%|          | 0/20 [00:00<?, ?it/s]"
      ]
     },
     "metadata": {},
     "output_type": "display_data"
    },
    {
     "name": "stdout",
     "output_type": "stream",
     "text": [
      "0.4814565181732178\n",
      "Time to compute exact mean + covariances: 0.06s\n"
     ]
    },
    {
     "data": {
      "application/vnd.jupyter.widget-view+json": {
       "model_id": "79b00195416449c8ba15033ec8a29887",
       "version_major": 2,
       "version_minor": 0
      },
      "text/plain": [
       "  0%|          | 0/20 [00:00<?, ?it/s]"
      ]
     },
     "metadata": {},
     "output_type": "display_data"
    },
    {
     "name": "stdout",
     "output_type": "stream",
     "text": [
      "1.1838200092315674\n",
      "Time to compute kiss mean + covariances: 0.29s\n",
      "MAE between exact covar matrix and fast covar matrix: 0.002948\n"
     ]
    },
    {
     "data": {
      "application/vnd.jupyter.widget-view+json": {
       "model_id": "ad7be84a7bbc45aab96a7f6ef3c7d0a7",
       "version_major": 2,
       "version_minor": 0
      },
      "text/plain": [
       "  0%|          | 0/20 [00:00<?, ?it/s]"
      ]
     },
     "metadata": {},
     "output_type": "display_data"
    },
    {
     "name": "stdout",
     "output_type": "stream",
     "text": [
      "0.44137048721313477\n",
      "Time to compute exact mean + covariances: 0.06s\n"
     ]
    },
    {
     "data": {
      "application/vnd.jupyter.widget-view+json": {
       "model_id": "35b05c55e292474b8bea3c8dff80b796",
       "version_major": 2,
       "version_minor": 0
      },
      "text/plain": [
       "  0%|          | 0/20 [00:00<?, ?it/s]"
      ]
     },
     "metadata": {},
     "output_type": "display_data"
    },
    {
     "name": "stdout",
     "output_type": "stream",
     "text": [
      "1.2215547561645508\n",
      "Time to compute kiss mean + covariances: 0.20s\n",
      "MAE between exact covar matrix and fast covar matrix: 0.008764\n"
     ]
    },
    {
     "data": {
      "application/vnd.jupyter.widget-view+json": {
       "model_id": "d4aab6c79cec446ba0c47833b33d3a29",
       "version_major": 2,
       "version_minor": 0
      },
      "text/plain": [
       "  0%|          | 0/20 [00:00<?, ?it/s]"
      ]
     },
     "metadata": {},
     "output_type": "display_data"
    },
    {
     "name": "stdout",
     "output_type": "stream",
     "text": [
      "0.44793009757995605\n",
      "Time to compute exact mean + covariances: 0.08s\n"
     ]
    },
    {
     "data": {
      "application/vnd.jupyter.widget-view+json": {
       "model_id": "d6e52c2b8eb24c77b02abedae9fe8697",
       "version_major": 2,
       "version_minor": 0
      },
      "text/plain": [
       "  0%|          | 0/20 [00:00<?, ?it/s]"
      ]
     },
     "metadata": {},
     "output_type": "display_data"
    },
    {
     "name": "stdout",
     "output_type": "stream",
     "text": [
      "1.1669883728027344\n",
      "Time to compute kiss mean + covariances: 0.29s\n",
      "MAE between exact covar matrix and fast covar matrix: 0.003839\n"
     ]
    },
    {
     "data": {
      "application/vnd.jupyter.widget-view+json": {
       "model_id": "12e5abcd33c24bc1bd035460743defde",
       "version_major": 2,
       "version_minor": 0
      },
      "text/plain": [
       "  0%|          | 0/20 [00:00<?, ?it/s]"
      ]
     },
     "metadata": {},
     "output_type": "display_data"
    },
    {
     "name": "stdout",
     "output_type": "stream",
     "text": [
      "0.46523332595825195\n",
      "Time to compute exact mean + covariances: 0.09s\n"
     ]
    },
    {
     "data": {
      "application/vnd.jupyter.widget-view+json": {
       "model_id": "59294a3a9953452c8a4b2d78bbe5f982",
       "version_major": 2,
       "version_minor": 0
      },
      "text/plain": [
       "  0%|          | 0/20 [00:00<?, ?it/s]"
      ]
     },
     "metadata": {},
     "output_type": "display_data"
    },
    {
     "name": "stdout",
     "output_type": "stream",
     "text": [
      "1.168323040008545\n",
      "Time to compute kiss mean + covariances: 0.30s\n",
      "MAE between exact covar matrix and fast covar matrix: 0.004303\n"
     ]
    },
    {
     "data": {
      "application/vnd.jupyter.widget-view+json": {
       "model_id": "2c47d42e231941668da4df21495467a2",
       "version_major": 2,
       "version_minor": 0
      },
      "text/plain": [
       "  0%|          | 0/20 [00:00<?, ?it/s]"
      ]
     },
     "metadata": {},
     "output_type": "display_data"
    },
    {
     "name": "stdout",
     "output_type": "stream",
     "text": [
      "0.44913792610168457\n",
      "Time to compute exact mean + covariances: 0.11s\n"
     ]
    },
    {
     "data": {
      "application/vnd.jupyter.widget-view+json": {
       "model_id": "d678244e60bc4d1e98e6dbdab2a52a3c",
       "version_major": 2,
       "version_minor": 0
      },
      "text/plain": [
       "  0%|          | 0/20 [00:00<?, ?it/s]"
      ]
     },
     "metadata": {},
     "output_type": "display_data"
    },
    {
     "name": "stdout",
     "output_type": "stream",
     "text": [
      "1.1806435585021973\n",
      "Time to compute kiss mean + covariances: 0.30s\n",
      "MAE between exact covar matrix and fast covar matrix: 0.011817\n"
     ]
    },
    {
     "data": {
      "application/vnd.jupyter.widget-view+json": {
       "model_id": "6926e269b3484fd9b3ac02d4304dde7e",
       "version_major": 2,
       "version_minor": 0
      },
      "text/plain": [
       "  0%|          | 0/20 [00:00<?, ?it/s]"
      ]
     },
     "metadata": {},
     "output_type": "display_data"
    },
    {
     "name": "stdout",
     "output_type": "stream",
     "text": [
      "0.4728975296020508\n",
      "Time to compute exact mean + covariances: 0.13s\n"
     ]
    },
    {
     "data": {
      "application/vnd.jupyter.widget-view+json": {
       "model_id": "bf6bf0719e8145bc8ac63c5940f14f84",
       "version_major": 2,
       "version_minor": 0
      },
      "text/plain": [
       "  0%|          | 0/20 [00:00<?, ?it/s]"
      ]
     },
     "metadata": {},
     "output_type": "display_data"
    },
    {
     "name": "stdout",
     "output_type": "stream",
     "text": [
      "1.3550465106964111\n",
      "Time to compute kiss mean + covariances: 0.19s\n",
      "MAE between exact covar matrix and fast covar matrix: 0.006229\n"
     ]
    },
    {
     "data": {
      "application/vnd.jupyter.widget-view+json": {
       "model_id": "83644d75d15846aca23b25814d22e772",
       "version_major": 2,
       "version_minor": 0
      },
      "text/plain": [
       "  0%|          | 0/20 [00:00<?, ?it/s]"
      ]
     },
     "metadata": {},
     "output_type": "display_data"
    },
    {
     "name": "stdout",
     "output_type": "stream",
     "text": [
      "0.48331451416015625\n",
      "Time to compute exact mean + covariances: 0.15s\n"
     ]
    },
    {
     "data": {
      "application/vnd.jupyter.widget-view+json": {
       "model_id": "985db68766114b8a855a786ca0a3340e",
       "version_major": 2,
       "version_minor": 0
      },
      "text/plain": [
       "  0%|          | 0/20 [00:00<?, ?it/s]"
      ]
     },
     "metadata": {},
     "output_type": "display_data"
    },
    {
     "name": "stdout",
     "output_type": "stream",
     "text": [
      "1.2258596420288086\n",
      "Time to compute kiss mean + covariances: 0.31s\n",
      "MAE between exact covar matrix and fast covar matrix: 0.001541\n"
     ]
    },
    {
     "data": {
      "application/vnd.jupyter.widget-view+json": {
       "model_id": "a7eeb48fd79443a98a211e16fe0e4c0b",
       "version_major": 2,
       "version_minor": 0
      },
      "text/plain": [
       "  0%|          | 0/20 [00:00<?, ?it/s]"
      ]
     },
     "metadata": {},
     "output_type": "display_data"
    },
    {
     "name": "stdout",
     "output_type": "stream",
     "text": [
      "0.502373456954956\n",
      "Time to compute exact mean + covariances: 0.18s\n"
     ]
    },
    {
     "data": {
      "application/vnd.jupyter.widget-view+json": {
       "model_id": "1d4865c70ea2423f99b29752c3d8fb44",
       "version_major": 2,
       "version_minor": 0
      },
      "text/plain": [
       "  0%|          | 0/20 [00:00<?, ?it/s]"
      ]
     },
     "metadata": {},
     "output_type": "display_data"
    },
    {
     "name": "stdout",
     "output_type": "stream",
     "text": [
      "1.2035701274871826\n",
      "Time to compute kiss mean + covariances: 0.31s\n",
      "MAE between exact covar matrix and fast covar matrix: 0.002616\n"
     ]
    },
    {
     "data": {
      "application/vnd.jupyter.widget-view+json": {
       "model_id": "829ab24f79af44d0bbb87d5d20340662",
       "version_major": 2,
       "version_minor": 0
      },
      "text/plain": [
       "  0%|          | 0/20 [00:00<?, ?it/s]"
      ]
     },
     "metadata": {},
     "output_type": "display_data"
    },
    {
     "name": "stdout",
     "output_type": "stream",
     "text": [
      "0.5324587821960449\n",
      "Time to compute exact mean + covariances: 0.20s\n"
     ]
    },
    {
     "data": {
      "application/vnd.jupyter.widget-view+json": {
       "model_id": "8a960303c92041068ea262fcd0fb874b",
       "version_major": 2,
       "version_minor": 0
      },
      "text/plain": [
       "  0%|          | 0/20 [00:00<?, ?it/s]"
      ]
     },
     "metadata": {},
     "output_type": "display_data"
    },
    {
     "name": "stdout",
     "output_type": "stream",
     "text": [
      "1.2066752910614014\n",
      "Time to compute kiss mean + covariances: 0.31s\n",
      "MAE between exact covar matrix and fast covar matrix: 0.014372\n"
     ]
    },
    {
     "data": {
      "application/vnd.jupyter.widget-view+json": {
       "model_id": "734c5a8800ec447a8ff8a5fac389c639",
       "version_major": 2,
       "version_minor": 0
      },
      "text/plain": [
       "  0%|          | 0/20 [00:00<?, ?it/s]"
      ]
     },
     "metadata": {},
     "output_type": "display_data"
    },
    {
     "name": "stdout",
     "output_type": "stream",
     "text": [
      "0.5103459358215332\n",
      "Time to compute exact mean + covariances: 0.24s\n"
     ]
    },
    {
     "data": {
      "application/vnd.jupyter.widget-view+json": {
       "model_id": "8e9204d6e21d4f019f2c716ea753048b",
       "version_major": 2,
       "version_minor": 0
      },
      "text/plain": [
       "  0%|          | 0/20 [00:00<?, ?it/s]"
      ]
     },
     "metadata": {},
     "output_type": "display_data"
    },
    {
     "name": "stdout",
     "output_type": "stream",
     "text": [
      "1.2112679481506348\n",
      "Time to compute kiss mean + covariances: 0.31s\n",
      "MAE between exact covar matrix and fast covar matrix: 0.002617\n"
     ]
    },
    {
     "data": {
      "application/vnd.jupyter.widget-view+json": {
       "model_id": "a07847ea7d724f03bbc2ff5ed02ed4f1",
       "version_major": 2,
       "version_minor": 0
      },
      "text/plain": [
       "  0%|          | 0/20 [00:00<?, ?it/s]"
      ]
     },
     "metadata": {},
     "output_type": "display_data"
    },
    {
     "name": "stdout",
     "output_type": "stream",
     "text": [
      "0.5226681232452393\n",
      "Time to compute exact mean + covariances: 0.27s\n"
     ]
    },
    {
     "data": {
      "application/vnd.jupyter.widget-view+json": {
       "model_id": "1d6b1344ed6b45f58a958eb07ac69420",
       "version_major": 2,
       "version_minor": 0
      },
      "text/plain": [
       "  0%|          | 0/20 [00:00<?, ?it/s]"
      ]
     },
     "metadata": {},
     "output_type": "display_data"
    },
    {
     "name": "stdout",
     "output_type": "stream",
     "text": [
      "1.2089626789093018\n",
      "Time to compute kiss mean + covariances: 0.31s\n",
      "MAE between exact covar matrix and fast covar matrix: 0.003258\n"
     ]
    },
    {
     "data": {
      "application/vnd.jupyter.widget-view+json": {
       "model_id": "a74c9aa48c5441f0af0e4bd9058a9816",
       "version_major": 2,
       "version_minor": 0
      },
      "text/plain": [
       "  0%|          | 0/20 [00:00<?, ?it/s]"
      ]
     },
     "metadata": {},
     "output_type": "display_data"
    },
    {
     "name": "stdout",
     "output_type": "stream",
     "text": [
      "0.5009908676147461\n",
      "Time to compute exact mean + covariances: 0.32s\n"
     ]
    },
    {
     "data": {
      "application/vnd.jupyter.widget-view+json": {
       "model_id": "81fdf91e77424abeb1e88fa70ea9ec5d",
       "version_major": 2,
       "version_minor": 0
      },
      "text/plain": [
       "  0%|          | 0/20 [00:00<?, ?it/s]"
      ]
     },
     "metadata": {},
     "output_type": "display_data"
    },
    {
     "name": "stdout",
     "output_type": "stream",
     "text": [
      "1.2101426124572754\n",
      "Time to compute kiss mean + covariances: 0.32s\n",
      "MAE between exact covar matrix and fast covar matrix: 0.000711\n"
     ]
    },
    {
     "data": {
      "application/vnd.jupyter.widget-view+json": {
       "model_id": "e19ccee2abd445f6a9e1ba78fc5db33d",
       "version_major": 2,
       "version_minor": 0
      },
      "text/plain": [
       "  0%|          | 0/20 [00:00<?, ?it/s]"
      ]
     },
     "metadata": {},
     "output_type": "display_data"
    },
    {
     "name": "stdout",
     "output_type": "stream",
     "text": [
      "0.5303158760070801\n",
      "Time to compute exact mean + covariances: 0.35s\n"
     ]
    },
    {
     "data": {
      "application/vnd.jupyter.widget-view+json": {
       "model_id": "eba8726686a343d49bf3c98850d69355",
       "version_major": 2,
       "version_minor": 0
      },
      "text/plain": [
       "  0%|          | 0/20 [00:00<?, ?it/s]"
      ]
     },
     "metadata": {},
     "output_type": "display_data"
    },
    {
     "name": "stdout",
     "output_type": "stream",
     "text": [
      "1.2163996696472168\n",
      "Time to compute kiss mean + covariances: 0.31s\n",
      "MAE between exact covar matrix and fast covar matrix: 0.001721\n"
     ]
    },
    {
     "data": {
      "application/vnd.jupyter.widget-view+json": {
       "model_id": "fd93dc7007a8403b8ae64e8ffa00e4f9",
       "version_major": 2,
       "version_minor": 0
      },
      "text/plain": [
       "  0%|          | 0/20 [00:00<?, ?it/s]"
      ]
     },
     "metadata": {},
     "output_type": "display_data"
    },
    {
     "name": "stdout",
     "output_type": "stream",
     "text": [
      "0.5679824352264404\n",
      "Time to compute exact mean + covariances: 0.41s\n"
     ]
    },
    {
     "data": {
      "application/vnd.jupyter.widget-view+json": {
       "model_id": "18452f2399b2474f85aaccea7944dfc9",
       "version_major": 2,
       "version_minor": 0
      },
      "text/plain": [
       "  0%|          | 0/20 [00:00<?, ?it/s]"
      ]
     },
     "metadata": {},
     "output_type": "display_data"
    },
    {
     "name": "stdout",
     "output_type": "stream",
     "text": [
      "1.2254936695098877\n",
      "Time to compute kiss mean + covariances: 0.32s\n",
      "MAE between exact covar matrix and fast covar matrix: 0.001825\n"
     ]
    },
    {
     "data": {
      "application/vnd.jupyter.widget-view+json": {
       "model_id": "c0e48863aabe402f86fc398406830189",
       "version_major": 2,
       "version_minor": 0
      },
      "text/plain": [
       "  0%|          | 0/20 [00:00<?, ?it/s]"
      ]
     },
     "metadata": {},
     "output_type": "display_data"
    },
    {
     "name": "stdout",
     "output_type": "stream",
     "text": [
      "0.5925261974334717\n",
      "Time to compute exact mean + covariances: 0.47s\n"
     ]
    },
    {
     "data": {
      "application/vnd.jupyter.widget-view+json": {
       "model_id": "dc77db8cce5245dda13916fb996862d0",
       "version_major": 2,
       "version_minor": 0
      },
      "text/plain": [
       "  0%|          | 0/20 [00:00<?, ?it/s]"
      ]
     },
     "metadata": {},
     "output_type": "display_data"
    },
    {
     "name": "stdout",
     "output_type": "stream",
     "text": [
      "1.2978851795196533\n",
      "Time to compute kiss mean + covariances: 0.32s\n",
      "MAE between exact covar matrix and fast covar matrix: 0.002175\n"
     ]
    },
    {
     "data": {
      "application/vnd.jupyter.widget-view+json": {
       "model_id": "758b6a3c12ad4d8797256363e3bf62b9",
       "version_major": 2,
       "version_minor": 0
      },
      "text/plain": [
       "  0%|          | 0/20 [00:00<?, ?it/s]"
      ]
     },
     "metadata": {},
     "output_type": "display_data"
    },
    {
     "name": "stdout",
     "output_type": "stream",
     "text": [
      "0.6113319396972656\n",
      "Time to compute exact mean + covariances: 0.52s\n"
     ]
    },
    {
     "data": {
      "application/vnd.jupyter.widget-view+json": {
       "model_id": "26ff3faa09bd4f288aa2db10fb689694",
       "version_major": 2,
       "version_minor": 0
      },
      "text/plain": [
       "  0%|          | 0/20 [00:00<?, ?it/s]"
      ]
     },
     "metadata": {},
     "output_type": "display_data"
    },
    {
     "name": "stdout",
     "output_type": "stream",
     "text": [
      "1.230024814605713\n",
      "Time to compute kiss mean + covariances: 0.32s\n",
      "MAE between exact covar matrix and fast covar matrix: 0.007554\n"
     ]
    },
    {
     "data": {
      "application/vnd.jupyter.widget-view+json": {
       "model_id": "a471ebfd17c34633b3b232c11d980a53",
       "version_major": 2,
       "version_minor": 0
      },
      "text/plain": [
       "  0%|          | 0/20 [00:00<?, ?it/s]"
      ]
     },
     "metadata": {},
     "output_type": "display_data"
    },
    {
     "name": "stdout",
     "output_type": "stream",
     "text": [
      "0.586021900177002\n",
      "Time to compute exact mean + covariances: 0.59s\n"
     ]
    },
    {
     "data": {
      "application/vnd.jupyter.widget-view+json": {
       "model_id": "b8b6130b0af148abbfc697de276b96d2",
       "version_major": 2,
       "version_minor": 0
      },
      "text/plain": [
       "  0%|          | 0/20 [00:00<?, ?it/s]"
      ]
     },
     "metadata": {},
     "output_type": "display_data"
    },
    {
     "name": "stdout",
     "output_type": "stream",
     "text": [
      "1.2386977672576904\n",
      "Time to compute kiss mean + covariances: 0.33s\n",
      "MAE between exact covar matrix and fast covar matrix: 0.001760\n"
     ]
    },
    {
     "data": {
      "application/vnd.jupyter.widget-view+json": {
       "model_id": "9ff40b0a00dc40dbb59078d006b96cf0",
       "version_major": 2,
       "version_minor": 0
      },
      "text/plain": [
       "  0%|          | 0/20 [00:00<?, ?it/s]"
      ]
     },
     "metadata": {},
     "output_type": "display_data"
    },
    {
     "name": "stdout",
     "output_type": "stream",
     "text": [
      "0.6871628761291504\n",
      "Time to compute exact mean + covariances: 0.65s\n"
     ]
    },
    {
     "data": {
      "application/vnd.jupyter.widget-view+json": {
       "model_id": "8845390b3e30467a85c30316727fe9a4",
       "version_major": 2,
       "version_minor": 0
      },
      "text/plain": [
       "  0%|          | 0/20 [00:00<?, ?it/s]"
      ]
     },
     "metadata": {},
     "output_type": "display_data"
    },
    {
     "name": "stdout",
     "output_type": "stream",
     "text": [
      "1.2329294681549072\n",
      "Time to compute kiss mean + covariances: 0.54s\n",
      "MAE between exact covar matrix and fast covar matrix: 0.011995\n"
     ]
    },
    {
     "data": {
      "application/vnd.jupyter.widget-view+json": {
       "model_id": "c220cbeedbed4ae8a8488be284e25f27",
       "version_major": 2,
       "version_minor": 0
      },
      "text/plain": [
       "  0%|          | 0/20 [00:00<?, ?it/s]"
      ]
     },
     "metadata": {},
     "output_type": "display_data"
    },
    {
     "name": "stdout",
     "output_type": "stream",
     "text": [
      "0.701972484588623\n",
      "Time to compute exact mean + covariances: 0.72s\n"
     ]
    },
    {
     "data": {
      "application/vnd.jupyter.widget-view+json": {
       "model_id": "5e097a3c0c9f40aabbb1060abdf2e4c9",
       "version_major": 2,
       "version_minor": 0
      },
      "text/plain": [
       "  0%|          | 0/20 [00:00<?, ?it/s]"
      ]
     },
     "metadata": {},
     "output_type": "display_data"
    },
    {
     "name": "stdout",
     "output_type": "stream",
     "text": [
      "1.2404851913452148\n",
      "Time to compute kiss mean + covariances: 0.35s\n",
      "MAE between exact covar matrix and fast covar matrix: 0.006717\n"
     ]
    },
    {
     "data": {
      "application/vnd.jupyter.widget-view+json": {
       "model_id": "7ab11dbd818b476dbee2e06f0345f363",
       "version_major": 2,
       "version_minor": 0
      },
      "text/plain": [
       "  0%|          | 0/20 [00:00<?, ?it/s]"
      ]
     },
     "metadata": {},
     "output_type": "display_data"
    },
    {
     "name": "stdout",
     "output_type": "stream",
     "text": [
      "0.7020182609558105\n",
      "Time to compute exact mean + covariances: 0.81s\n"
     ]
    },
    {
     "data": {
      "application/vnd.jupyter.widget-view+json": {
       "model_id": "c95b4210fcf241fcb10c28438de6e911",
       "version_major": 2,
       "version_minor": 0
      },
      "text/plain": [
       "  0%|          | 0/20 [00:00<?, ?it/s]"
      ]
     },
     "metadata": {},
     "output_type": "display_data"
    },
    {
     "name": "stdout",
     "output_type": "stream",
     "text": [
      "1.2438457012176514\n",
      "Time to compute kiss mean + covariances: 0.34s\n",
      "MAE between exact covar matrix and fast covar matrix: 0.011147\n"
     ]
    },
    {
     "data": {
      "application/vnd.jupyter.widget-view+json": {
       "model_id": "823a60c82497418ba80b610bca269c40",
       "version_major": 2,
       "version_minor": 0
      },
      "text/plain": [
       "  0%|          | 0/20 [00:00<?, ?it/s]"
      ]
     },
     "metadata": {},
     "output_type": "display_data"
    },
    {
     "name": "stdout",
     "output_type": "stream",
     "text": [
      "0.7529544830322266\n",
      "Time to compute exact mean + covariances: 0.89s\n"
     ]
    },
    {
     "data": {
      "application/vnd.jupyter.widget-view+json": {
       "model_id": "3bb929a3943f4e7d9606fd3ed09ebb02",
       "version_major": 2,
       "version_minor": 0
      },
      "text/plain": [
       "  0%|          | 0/20 [00:00<?, ?it/s]"
      ]
     },
     "metadata": {},
     "output_type": "display_data"
    },
    {
     "name": "stdout",
     "output_type": "stream",
     "text": [
      "1.2480554580688477\n",
      "Time to compute kiss mean + covariances: 0.34s\n",
      "MAE between exact covar matrix and fast covar matrix: 0.004458\n"
     ]
    },
    {
     "data": {
      "application/vnd.jupyter.widget-view+json": {
       "model_id": "45d3f4798b10452fb00baf0316fffedd",
       "version_major": 2,
       "version_minor": 0
      },
      "text/plain": [
       "  0%|          | 0/20 [00:00<?, ?it/s]"
      ]
     },
     "metadata": {},
     "output_type": "display_data"
    },
    {
     "name": "stdout",
     "output_type": "stream",
     "text": [
      "0.756627082824707\n",
      "Time to compute exact mean + covariances: 0.97s\n"
     ]
    },
    {
     "data": {
      "application/vnd.jupyter.widget-view+json": {
       "model_id": "b850dff8e1cf4b18b022edf24a2c96fc",
       "version_major": 2,
       "version_minor": 0
      },
      "text/plain": [
       "  0%|          | 0/20 [00:00<?, ?it/s]"
      ]
     },
     "metadata": {},
     "output_type": "display_data"
    },
    {
     "name": "stdout",
     "output_type": "stream",
     "text": [
      "1.2481584548950195\n",
      "Time to compute kiss mean + covariances: 0.31s\n",
      "MAE between exact covar matrix and fast covar matrix: 0.017180\n"
     ]
    }
   ],
   "source": [
    "use_cuda = torch.cuda.is_available()\n",
    "\n",
    "for size in size_vec:\n",
    "    X = X_copy[0:size, :]\n",
    "    y = y_copy[:size]\n",
    "    \n",
    "    train_n = int(floor(0.6 * len(X)))\n",
    "    train_x = X[:train_n, :].contiguous()\n",
    "    train_y = y[:train_n].contiguous()\n",
    "\n",
    "    test_x = X[train_n:, :].contiguous()\n",
    "    test_y = y[train_n:].contiguous()\n",
    "\n",
    "    if use_cuda:\n",
    "        train_x, train_y, test_x, test_y = train_x.cuda(), train_y.cuda(), test_x.cuda(), test_y.cuda()\n",
    "    \n",
    "    \n",
    "    #### Exact GP Model ####\n",
    "    \n",
    "    likelihood1 = gpytorch.likelihoods.GaussianLikelihood()\n",
    "    model1 = ExactGPModel(train_x, train_y, likelihood1)\n",
    "\n",
    "    if use_cuda:\n",
    "        model1 = model1.cuda()\n",
    "        likelihood1 = likelihood1.cuda()\n",
    "\n",
    "    training_iterations = 1 if smoke_test else 20\n",
    "\n",
    "    # Find optimal model hyperparameters\n",
    "    model1.train()\n",
    "    likelihood1.train()\n",
    "\n",
    "    # Use the adam optimizer\n",
    "    optimizer = torch.optim.Adam(model1.parameters(), lr=0.1)  # Includes GaussianLikelihood parameters\n",
    "\n",
    "    # \"Loss\" for GPs - the marginal log likelihood\n",
    "    mll = gpytorch.mlls.ExactMarginalLogLikelihood(likelihood1, model1)\n",
    "\n",
    "    with gpytorch.settings.min_preconditioning_size(15000):\n",
    "        start_time = time.time()\n",
    "        train1()\n",
    "        exact_training_time = time.time() - start_time\n",
    "    print(exact_training_time)\n",
    "    exact_training.append(exact_training_time)\n",
    "        \n",
    "    # Compute Predictive Distribution \n",
    "    model1.eval()\n",
    "    likelihood1.eval()\n",
    "\n",
    "    with torch.no_grad():\n",
    "        start_time = time.time()\n",
    "        preds = likelihood1(model1(test_x))\n",
    "        exact_covar = preds.covariance_matrix\n",
    "        exact_covar_time = time.time() - start_time\n",
    "\n",
    "    exact_meancovar.append(exact_covar_time)\n",
    "    print(f\"Time to compute exact mean + covariances: {exact_covar_time:.2f}s\")\n",
    "    \n",
    "\n",
    "    \n",
    "    \n",
    "    \n",
    "\n",
    "   #### KISS-GP Model ####\n",
    "    likelihood = gpytorch.likelihoods.GaussianLikelihood()\n",
    "    model = GPRegressionModel(train_x, train_y, likelihood)\n",
    "\n",
    "    if torch.cuda.is_available():\n",
    "        model = model.cuda()\n",
    "        likelihood = likelihood.cuda()\n",
    "\n",
    "    training_iterations = 1 if smoke_test else 20\n",
    "\n",
    "    # Find optimal model hyperparameters\n",
    "    model.train()\n",
    "    likelihood.train()\n",
    "\n",
    "    # Use the adam optimizer\n",
    "    optimizer = torch.optim.Adam(model.parameters(), lr=0.1)  # Includes GaussianLikelihood parameters\n",
    "\n",
    "    # \"Loss\" for GPs - the marginal log likelihood\n",
    "    mll = gpytorch.mlls.ExactMarginalLogLikelihood(likelihood, model)\n",
    "\n",
    "    with gpytorch.settings.min_preconditioning_size(15000):\n",
    "        start_time = time.time()\n",
    "        train()\n",
    "        kiss_training_time = time.time() - start_time\n",
    "    print(kiss_training_time)\n",
    "    kiss_training.append(kiss_training_time)\n",
    "        \n",
    "    # Compute Predictive Distribution \n",
    "    model.eval()\n",
    "    likelihood.eval()\n",
    "\n",
    "    with torch.no_grad(), gpytorch.settings.fast_pred_var():\n",
    "        start_time = time.time()\n",
    "        preds = likelihood(model(test_x))\n",
    "        kiss_covar = preds.covariance_matrix\n",
    "        kiss_covar_time = time.time() - start_time\n",
    "    kiss_meancovar.append(kiss_covar_time)\n",
    "    print(f\"Time to compute kiss mean + covariances: {kiss_covar_time:.2f}s\")\n",
    "    \n",
    "    \n",
    "    mae = ((exact_covar) - (kiss_covar)).abs().mean()\n",
    "    print(f\"MAE between exact covar matrix and fast covar matrix: {mae:.6f}\")\n",
    "    covar_error.append(mae.item())"
   ]
  },
  {
   "cell_type": "code",
   "execution_count": 8,
   "metadata": {},
   "outputs": [
    {
     "name": "stdout",
     "output_type": "stream",
     "text": [
      "sizes: [  200   765  1330  1896  2461  3027  3592  4158  4723  5289  5854  6420\n",
      "  6985  7551  8116  8682  9247  9813 10378 10944 11509 12075 12640 13206\n",
      " 13771 14337 14902 15468 16033 16599]\n",
      "cpu kiss training: [5.206200122833252, 24.696154832839966, 46.19386100769043, 6.714686632156372, 7.109652519226074, 7.916386604309082, 8.394071817398071, 9.125818014144897, 9.50312852859497, 10.09701919555664, 10.710605144500732, 11.296480417251587, 12.086826086044312, 12.28836727142334, 12.90201187133789, 13.484611749649048, 14.021352767944336, 14.989052534103394, 15.000150918960571, 15.504727840423584, 16.089683055877686, 16.803810358047485, 17.512535095214844, 18.19855809211731, 18.49667453765869, 19.113271236419678, 19.6229510307312, 20.118438005447388, 20.593857765197754, 21.177509784698486]\n",
      "cpu exact training: [0.40825939178466797, 0.8910963535308838, 1.395582914352417, 3.0899810791015625, 4.393195867538452, 6.092081785202026, 8.003847360610962, 11.111681938171387, 13.494176626205444, 16.27293086051941, 19.87002658843994, 23.00848960876465, 28.394871950149536, 32.38370728492737, 37.11277461051941, 42.89706611633301, 48.088608503341675, 54.06220602989197, 61.60032653808594, 66.39278507232666, 74.72967910766602, 82.13886904716492, 87.69165301322937, 97.28866195678711, 104.97685980796814, 113.50553727149963, 123.52659487724304, 129.13533878326416, 140.7780520915985, 151.60267996788025]\n",
      "gpu kiss training: [0.7272665500640869, 0.5602705478668213, 0.8093931674957275, 1.152217149734497, 1.1452271938323975, 1.1459217071533203, 1.276669979095459, 1.1621503829956055, 1.1838200092315674, 1.2215547561645508, 1.1669883728027344, 1.168323040008545, 1.1806435585021973, 1.3550465106964111, 1.2258596420288086, 1.2035701274871826, 1.2066752910614014, 1.2112679481506348, 1.2089626789093018, 1.2101426124572754, 1.2163996696472168, 1.2254936695098877, 1.2978851795196533, 1.230024814605713, 1.2386977672576904, 1.2329294681549072, 1.2404851913452148, 1.2438457012176514, 1.2480554580688477, 1.2481584548950195]\n",
      "gpu exact training: [1.506025791168213, 0.1355583667755127, 0.17122173309326172, 0.3124551773071289, 0.3746638298034668, 0.31291675567626953, 0.44328832626342773, 0.44029974937438965, 0.4814565181732178, 0.44137048721313477, 0.44793009757995605, 0.46523332595825195, 0.44913792610168457, 0.4728975296020508, 0.48331451416015625, 0.502373456954956, 0.5324587821960449, 0.5103459358215332, 0.5226681232452393, 0.5009908676147461, 0.5303158760070801, 0.5679824352264404, 0.5925261974334717, 0.6113319396972656, 0.586021900177002, 0.6871628761291504, 0.701972484588623, 0.7020182609558105, 0.7529544830322266, 0.756627082824707]\n",
      "cpu kiss mean covar: [0.21691298484802246, 0.8904669284820557, 1.7684969902038574, 0.8020944595336914, 1.4731414318084717, 1.689152479171753, 2.001146078109741, 2.2797417640686035, 2.5160739421844482, 2.8126957416534424, 3.0874650478363037, 3.3030712604522705, 3.504758358001709, 3.8198370933532715, 4.015503406524658, 4.301373720169067, 4.588990211486816, 4.8089599609375, 5.102025985717773, 5.460535764694214, 5.907942533493042, 6.088665246963501, 4.877373695373535, 6.694660186767578, 5.593821287155151, 7.198974609375, 7.66654109954834, 8.009682416915894, 8.280989408493042, 7.221612453460693] \n",
      "cpu exact mean covar: [0.061620473861694336, 0.07085442543029785, 0.03134727478027344, 0.19647932052612305, 0.3015015125274658, 0.5022397041320801, 0.9396250247955322, 1.283130168914795, 1.7859182357788086, 2.4145400524139404, 3.1979846954345703, 4.2912304401397705, 5.491685152053833, 6.6784608364105225, 8.16524863243103, 9.580867290496826, 11.009108781814575, 12.6995530128479, 14.797694683074951, 16.704095602035522, 18.997231006622314, 21.260080814361572, 24.02066397666931, 26.709426403045654, 30.09313941001892, 32.70921969413757, 36.482725858688354, 40.29753828048706, 44.609251499176025, 50.5113251209259] \n",
      "gpu kiss mean covar: [0.07184219360351562, 0.055362701416015625, 0.07491254806518555, 0.19185757637023926, 0.25089573860168457, 0.28579068183898926, 0.344052791595459, 0.2890803813934326, 0.28741931915283203, 0.2044379711151123, 0.2928006649017334, 0.2951784133911133, 0.3033406734466553, 0.1925973892211914, 0.3084828853607178, 0.3118619918823242, 0.31084775924682617, 0.3133676052093506, 0.3131401538848877, 0.31537485122680664, 0.31395602226257324, 0.32196044921875, 0.3209228515625, 0.3226327896118164, 0.3317241668701172, 0.5425341129302979, 0.3511223793029785, 0.3383162021636963, 0.3360595703125, 0.3112959861755371] \n",
      "gpu exact mean covar: [0.04250788688659668, 0.006386280059814453, 0.0076389312744140625, 0.01098489761352539, 0.01448512077331543, 0.017641305923461914, 0.04277539253234863, 0.0471804141998291, 0.05744194984436035, 0.06331968307495117, 0.07735443115234375, 0.09263944625854492, 0.10871267318725586, 0.12677884101867676, 0.15197110176086426, 0.17921757698059082, 0.20431089401245117, 0.23659372329711914, 0.271803617477417, 0.3174562454223633, 0.3497488498687744, 0.40694332122802734, 0.4659538269042969, 0.5185973644256592, 0.5896987915039062, 0.6543564796447754, 0.7215847969055176, 0.8129749298095703, 0.8910679817199707, 0.9672026634216309] \n",
      "MAE of covar matrix: [0.005970405414700508, 9.180884808301926e-05, 0.002000195439904928, 0.010618109256029129, 0.000732137996237725, 0.0018823990831151605, 0.001690947450697422, 0.0019951420836150646, 0.0029482946265488863, 0.008764327503740788, 0.0038386767264455557, 0.004302539397031069, 0.011816694401204586, 0.006228746380656958, 0.0015407213941216469, 0.0026164776645600796, 0.014371995814144611, 0.002616895828396082, 0.003257967298850417, 0.0007114883046597242, 0.0017213545506820083, 0.0018253092421218753, 0.0021748195867985487, 0.007554443087428808, 0.0017597558908164501, 0.011994818225502968, 0.006716599687933922, 0.011146862991154194, 0.00445796363055706, 0.017179694026708603]\n"
     ]
    }
   ],
   "source": [
    "# Print the results of the time lists\n",
    "print(f\"sizes: {size_vec}\")\n",
    "\n",
    "print(f\"cpu kiss training: {cpu_kiss_training}\")\n",
    "print(f\"cpu exact training: {cpu_exact_training}\")\n",
    "print(f\"gpu kiss training: {kiss_training}\")\n",
    "print(f\"gpu exact training: {exact_training}\")\n",
    "\n",
    "print(f\"cpu kiss mean covar: {cpu_kiss_meancovar} \")\n",
    "print(f\"cpu exact mean covar: {cpu_exact_meancovar} \")\n",
    "print(f\"gpu kiss mean covar: {kiss_meancovar} \")\n",
    "print(f\"gpu exact mean covar: {exact_meancovar} \")\n",
    "\n",
    "print(f\"MAE of covar matrix: {covar_error}\")"
   ]
  },
  {
   "cell_type": "markdown",
   "metadata": {},
   "source": [
    "## Numerical Result Visualization"
   ]
  },
  {
   "cell_type": "code",
   "execution_count": 9,
   "metadata": {},
   "outputs": [
    {
     "data": {
      "image/png": "[encoded data removed]",
      "text/plain": [
       "<Figure size 864x720 with 4 Axes>"
      ]
     },
     "metadata": {
      "needs_background": "light"
     },
     "output_type": "display_data"
    },
    {
     "data": {
      "image/png": "[encoded data removed]",
      "text/plain": [
       "<Figure size 432x432 with 1 Axes>"
      ]
     },
     "metadata": {
      "needs_background": "light"
     },
     "output_type": "display_data"
    }
   ],
   "source": [
    "# plt.figure(figsize=(7,7))\n",
    "# plt.plot(size_vec[1:], cpu_kiss_training[1:], 'r-', label='KISS-GP training')\n",
    "# plt.plot(size_vec[1:], cpu_exact_training[1:], 'b-', label='Exact training')\n",
    "# plt.ylabel('Time (second)')\n",
    "# plt.xlabel('Input Size')\n",
    "# plt.title('Training on CPU')\n",
    "\n",
    "# plt.legend()\n",
    "# plt.show()\n",
    "\n",
    "# # Initialize plots\n",
    "f, ((ax1, ax2), (ax3, ax4)) = plt.subplots(2, 2, figsize=(12, 10))\n",
    "\n",
    "f.suptitle('Performance of KISS-GP vs. Exact GPU on CPU and GPU', fontweight='bold')\n",
    "\n",
    "\n",
    "plt.subplot(221)\n",
    "ax1.set_title('KISS-GP training, CPU')\n",
    "ax1.plot(size_vec[1:], cpu_kiss_training[1:], 'r-', label='KISS-GP training')\n",
    "ax1.plot(size_vec[1:], cpu_exact_training[1:], 'b-', label='Exact training')\n",
    "ax1.legend()\n",
    "\n",
    "plt.subplot(222)\n",
    "ax2.set_title('KISS-GP training, GPU')\n",
    "ax2.plot(size_vec[1:], kiss_training[1:], 'r-', label='KISS-GP training')\n",
    "ax2.plot(size_vec[1:], exact_training[1:], 'b-', label='Exact training')\n",
    "ax2.legend()\n",
    "\n",
    "plt.subplot(223)\n",
    "ax3.set_title('KISS-GP/LOVE Predictive Distribution, CPU')\n",
    "ax3.plot(size_vec[1:], cpu_kiss_meancovar[1:], 'g-', label='KISS-GP/LOVE Predictive Distribution')\n",
    "ax3.plot(size_vec[1:], cpu_exact_meancovar[1:], 'c-', label='Exact Predictive Distribution')\n",
    "ax3.legend()\n",
    "\n",
    "plt.subplot(224)\n",
    "ax4.set_title('KISS-GP/LOVE Predictive Distribution, GPU')\n",
    "ax4.plot(size_vec[1:], kiss_meancovar[1:], 'g-', label='KISS-GP/LOVE Predictive Distribution')\n",
    "ax4.plot(size_vec[1:], exact_meancovar[1:], 'c-', label='Exact Predictive Distribution')\n",
    "ax4.legend()\n",
    "\n",
    "plt.setp([ax1,ax2,ax3,ax4], xlabel='Input Size')\n",
    "plt.setp([ax1,ax3], ylabel='Time (Second)')\n",
    "\n",
    "plt.tight_layout()\n",
    "\n",
    "### Plot the MAE\n",
    "plt.figure(figsize=(6,6))\n",
    "plt.plot(size_vec, covar_error, 'y-', label='Covariance Matrix MAE')\n",
    "plt.ylabel('Error')\n",
    "plt.xlabel('Input Size')\n",
    "plt.title('MAE of Predictive Covariance Matrix')\n",
    "\n",
    "plt.legend()\n",
    "plt.show()"
   ]
  },
  {
   "cell_type": "markdown",
   "metadata": {},
   "source": [
    "## Numerical Results Discussions\n",
    "\n",
    "The first row in the above figure compares the training time on CPU and GPU with KISS-GP and Exact GP, the second row compares the time for computing predictive distributions (both mean and covariance matrix), and the last row shows the Mean Absolute Error (MAE) of the covariance matrices, for each data size. \n",
    "\n",
    "We first focus on the first row: training. The plot on the left for training on CPU shows that KISS-GP is giving a significant improvement in training time, up to 7x times faster for data size 16599. The Exact GP training time grows exponentially, which is very costly. The plot on the right for training on GPU can be quite surprising at first, because KISS-GP is taking longer than Exact GP for training. This should be because the data size is still too small for GPU to fully show the power of KISS-GP. More importantly, we make some interesting observations. First, this might imply that some parts of KISS-GP of GPytorch is not optimized on GPU and takes long. Second, the Exact GP training time rises exponentially, while KISS-GP training time seems to saturate and stablize after the data size of 2000, which might imply that we will see the same pattern as we do on CPU should we switch to a much larger data size. Finally, we remark that GPU significantly improves the speed for training, making it up to 200x times faster for Exact GP and 17x times faster for KISS-GP, and the acceleration could be much more prominent on a larger data set, especially for KISS-GP. In any case, numerical experiment with a much larger data set on GPU is needed for future study.\n",
    "\n",
    "Next, we move our discussion to the second row: predictive distributions computation. As we see for both CPU and GPU, the time for computing exact predictive distributions scales up as $O(N^3)$, consistent with the traditional GP time complexity, while KISS-GP with LOVE is yielding an almost constant time complexity. (Only the predictive covariance matrix computation but not predictive mean is accelerated by LOVE). The GPU plot on the right once again might indicate that certain parts of KISS-GP of GPytorch is not optimized on GPU. Moreover, as with the case of training, GPU is significantly accelerating the predictive distributions computation. \n",
    "\n",
    "Finally, we see that the MAE between the predictive covariance matrix of KISS-GP w/. LOVE and that of Exact GP fluctuates a lot. There could be two reasons behind this: first being poor conditioning of matrix and numerical instability (such as there are negative entries), and second being that we are not using the optimal `grid_size` and fixing it instead as we previously mentioned. The average MAE is around $6 \\times 10^{-3}$. This is not big, but we also remark that this error is a magnitude while one would generally want a relative error (e.g. error is of order 0.01) when studying things like variance. We encountered some trouble when computing the relative error due to poor conditioning of matrix and numerical instability again. It is still under investigation and we expect to solve the problem. According to the paper of KISS-GP w/. LOVE, the method, in the term of Scaled Mean Absolute Error, is very accurate."
   ]
  },
  {
   "cell_type": "markdown",
   "metadata": {},
   "source": [
    "# Conclusion\n",
    "In conclusion, KISS-GP w/. LOVE, especially when running on GPU of HPC, would be able to scale GP to enormous sizes.\n",
    "\n",
    "We have showcased the scalability potential of GPs by leveraging GPytorch fast methods and ThetaGPU computational power. This work will establish the foundation for future users of ALCF systems with models involving GPs."
   ]
  }
 ],
 "metadata": {
  "anaconda-cloud": {},
  "kernelspec": {
   "display_name": "python_venv",
   "language": "python",
   "name": "python_venv"
  },
  "language_info": {
   "codemirror_mode": {
    "name": "ipython",
    "version": 3
   },
   "file_extension": ".py",
   "mimetype": "text/x-python",
   "name": "python",
   "nbconvert_exporter": "python",
   "pygments_lexer": "ipython3",
   "version": "3.8.13"
  }
 },
 "nbformat": 4,
 "nbformat_minor": 2
}
