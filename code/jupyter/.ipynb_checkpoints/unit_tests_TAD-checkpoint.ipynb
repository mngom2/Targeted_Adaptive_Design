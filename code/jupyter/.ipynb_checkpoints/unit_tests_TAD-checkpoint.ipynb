{
 "cells": [
  {
   "cell_type": "code",
   "execution_count": 1,
   "metadata": {},
   "outputs": [],
   "source": [
    "import math\n",
    "import torch\n",
    "from torch import nn\n",
    "from torch import Tensor\n",
    "from torch.nn  import functional as F\n",
    "import gpytorch\n",
    "from matplotlib import pyplot as plt\n",
    "import sys\n",
    "from decimal import Decimal\n",
    "sys.path.append(\"..\")\n",
    "import vvkernels as vvk\n",
    "import vvmeans as vvm\n",
    "import vvlikelihood as vvll\n",
    "from vfield import VField\n",
    "import numpy as np\n",
    "%matplotlib inline\n",
    "%load_ext autoreload\n",
    "%autoreload 2"
   ]
  },
  {
   "cell_type": "code",
   "execution_count": 2,
   "metadata": {},
   "outputs": [],
   "source": [
    "sample_x = torch.linspace(0, 1, 300)\n",
    "k = 100\n",
    "N = sample_x.shape[0]\n",
    "indices = torch.randperm(N)[:k]\n",
    "train_x = sample_x[indices]\n",
    "\n",
    "\n",
    "train_y = torch.stack([\n",
    "    torch.sin(train_x * (2 * math.pi)) + torch.randn(train_x.size()) * 0.2,\n",
    "    torch.cos(train_x * (2 * math.pi)) + torch.randn(train_x.size()) * 0.2,\n",
    "], -1)\n",
    "def g_theta(theta):\n",
    "    return torch.linspace(0, 1, 10)"
   ]
  },
  {
   "cell_type": "code",
   "execution_count": 3,
   "metadata": {},
   "outputs": [],
   "source": [
    "\n",
    "\n",
    "\n",
    "x_train = train_x #loc #torch.linspace(0, 1, 10)\n",
    "y_train = train_y #v  #torch.stack([torch.sin(train_x * (2 * math.pi)) + torch.randn(train_x.size()) * 0.2,torch.cos(train_x * (2 * math.pi)) + torch.randn(train_x.size()) * 0.2,], -1)\n",
    "\n",
    "class MultitaskGPModel(gpytorch.models.ExactGP):\n",
    "    def __init__(self, train_x, train_y, likelihood):\n",
    "        super(MultitaskGPModel, self).__init__(train_x, train_y, likelihood)\n",
    "        a = torch.ones(2,2)\n",
    "        chol_q = torch.tril(a)\n",
    "        self.mean_module = vvm.TensorProductSubMean(gpytorch.means.ConstantMean(), num_tasks = 2)\n",
    "        #self.covar_module = gpytorch.kernels.MultitaskKernel(\n",
    "      #      gpytorch.kernels.RBFKernel(), num_tasks=2, rank=1\n",
    "     #   )\n",
    "        self.covar_module = vvk.TensorProductKernel(gpytorch.kernels.RBFKernel(), a[0,0], a[1,0], a[1,1], num_tasks = 2, rank =1,  task_covar_prior=None)\n",
    "\n",
    "    def forward(self, x):\n",
    "        mean_x = self.mean_module(x)\n",
    "        covar_x = self.covar_module(x)\n",
    "        return gpytorch.distributions.MultitaskMultivariateNormal(mean_x, covar_x)\n",
    "    \n",
    "    \n",
    "#f_target = torch.ones(v.shape[0] * tpk.num_tasks, tpk.num_tasks)\n",
    "\n",
    "\n",
    "\n",
    "likelihood = vvll.TensorProductLikelihood(x_train, num_tasks = 2)\n",
    "\n",
    "\n",
    "\n",
    "model = MultitaskGPModel(x_train, y_train, likelihood)"
   ]
  },
  {
   "cell_type": "code",
   "execution_count": 4,
   "metadata": {},
   "outputs": [
    {
     "name": "stderr",
     "output_type": "stream",
     "text": [
      "/Library/Frameworks/Python.framework/Versions/3.7/lib/python3.7/site-packages/gpytorch/utils/cholesky.py:83: NumericalWarning: A not p.d., added jitter of 1.0e-05 to the diagonal\n",
      "  warnings.warn(f\"A not p.d., added jitter of {jitter_new:.1e} to the diagonal\", NumericalWarning)\n"
     ]
    },
    {
     "name": "stdout",
     "output_type": "stream",
     "text": [
      "Iter 1/100 - Loss: 388193.281\n",
      "Iter 2/100 - Loss: 380738.531\n",
      "Iter 3/100 - Loss: 396187.562\n",
      "Iter 4/100 - Loss: 403347.344\n",
      "Iter 5/100 - Loss: 382033.031\n",
      "Iter 6/100 - Loss: 397379.281\n",
      "Iter 7/100 - Loss: 376585.812\n",
      "Iter 8/100 - Loss: 378233.062\n",
      "Iter 9/100 - Loss: 378961.531\n",
      "Iter 10/100 - Loss: 394168.500\n",
      "Iter 11/100 - Loss: 382939.188\n",
      "Iter 12/100 - Loss: 372256.312\n",
      "Iter 13/100 - Loss: 384143.656\n",
      "Iter 14/100 - Loss: 352900.469\n",
      "Iter 15/100 - Loss: 364092.031\n",
      "Iter 16/100 - Loss: 355201.688\n",
      "Iter 17/100 - Loss: 369760.656\n",
      "Iter 18/100 - Loss: 373494.500\n",
      "Iter 19/100 - Loss: 366335.000\n",
      "Iter 20/100 - Loss: 355782.469\n",
      "Iter 21/100 - Loss: 359036.969\n",
      "Iter 22/100 - Loss: 336050.094\n",
      "Iter 23/100 - Loss: 341959.344\n",
      "Iter 24/100 - Loss: 345004.531\n",
      "Iter 25/100 - Loss: 330367.250\n",
      "Iter 26/100 - Loss: 328356.750\n",
      "Iter 27/100 - Loss: 322895.812\n",
      "Iter 28/100 - Loss: 342876.375\n",
      "Iter 29/100 - Loss: 333015.156\n",
      "Iter 30/100 - Loss: 332321.438\n",
      "Iter 31/100 - Loss: 309303.031\n",
      "Iter 32/100 - Loss: 319219.031\n",
      "Iter 33/100 - Loss: 304950.469\n",
      "Iter 34/100 - Loss: 286855.719\n",
      "Iter 35/100 - Loss: 280652.531\n",
      "Iter 36/100 - Loss: 260914.172\n",
      "Iter 37/100 - Loss: 242656.844\n",
      "Iter 38/100 - Loss: 235549.312\n",
      "Iter 39/100 - Loss: 217434.328\n",
      "Iter 40/100 - Loss: 246466.297\n",
      "Iter 41/100 - Loss: 198089.609\n",
      "Iter 42/100 - Loss: 192639.891\n",
      "Iter 43/100 - Loss: 179680.875\n",
      "Iter 44/100 - Loss: 156981.812\n",
      "Iter 45/100 - Loss: 135632.594\n",
      "Iter 46/100 - Loss: 99171.516\n",
      "Iter 47/100 - Loss: 77257.273\n",
      "Iter 48/100 - Loss: 69883.758\n",
      "Iter 49/100 - Loss: 8208.231\n"
     ]
    },
    {
     "name": "stderr",
     "output_type": "stream",
     "text": [
      "/Library/Frameworks/Python.framework/Versions/3.7/lib/python3.7/site-packages/gpytorch/utils/cholesky.py:83: NumericalWarning: A not p.d., added jitter of 1.0e-04 to the diagonal\n",
      "  warnings.warn(f\"A not p.d., added jitter of {jitter_new:.1e} to the diagonal\", NumericalWarning)\n"
     ]
    },
    {
     "name": "stdout",
     "output_type": "stream",
     "text": [
      "Iter 50/100 - Loss: 32506.877\n",
      "Iter 51/100 - Loss: 354897.000\n",
      "Iter 52/100 - Loss: 65448.707\n",
      "Iter 53/100 - Loss: 16308.847\n",
      "Iter 54/100 - Loss: 4084.870\n",
      "Iter 55/100 - Loss: 1202.569\n",
      "Iter 56/100 - Loss: 542.431\n",
      "Iter 57/100 - Loss: 233.473\n",
      "Iter 58/100 - Loss: 133.694\n",
      "Iter 59/100 - Loss: 91.379\n",
      "Iter 60/100 - Loss: 74.005\n",
      "Iter 61/100 - Loss: 68.408\n",
      "Iter 62/100 - Loss: 67.039\n",
      "Iter 63/100 - Loss: 68.798\n",
      "Iter 64/100 - Loss: 71.303\n",
      "Iter 65/100 - Loss: 74.257\n",
      "Iter 66/100 - Loss: 77.183\n",
      "Iter 67/100 - Loss: 80.000\n",
      "Iter 68/100 - Loss: 82.560\n",
      "Iter 69/100 - Loss: 84.848\n",
      "Iter 70/100 - Loss: 86.870\n",
      "Iter 71/100 - Loss: 88.601\n",
      "Iter 72/100 - Loss: 90.070\n",
      "Iter 73/100 - Loss: 91.296\n",
      "Iter 74/100 - Loss: 92.294\n",
      "Iter 75/100 - Loss: 93.086\n",
      "Iter 76/100 - Loss: 93.677\n",
      "Iter 77/100 - Loss: 94.111\n",
      "Iter 78/100 - Loss: 94.377\n",
      "Iter 79/100 - Loss: 94.498\n",
      "Iter 80/100 - Loss: 94.503\n",
      "Iter 81/100 - Loss: 94.388\n",
      "Iter 82/100 - Loss: 94.188\n",
      "Iter 83/100 - Loss: 93.885\n",
      "Iter 84/100 - Loss: 93.518\n",
      "Iter 85/100 - Loss: 93.081\n",
      "Iter 86/100 - Loss: 92.582\n",
      "Iter 87/100 - Loss: 92.032\n",
      "Iter 88/100 - Loss: 91.447\n",
      "Iter 89/100 - Loss: 90.822\n",
      "Iter 90/100 - Loss: 90.167\n",
      "Iter 91/100 - Loss: 89.485\n",
      "Iter 92/100 - Loss: 88.792\n",
      "Iter 93/100 - Loss: 88.078\n",
      "Iter 94/100 - Loss: 87.360\n",
      "Iter 95/100 - Loss: 86.625\n",
      "Iter 96/100 - Loss: 85.896\n",
      "Iter 97/100 - Loss: 85.168\n",
      "Iter 98/100 - Loss: 84.439\n",
      "Iter 99/100 - Loss: 83.711\n",
      "Iter 100/100 - Loss: 82.996\n"
     ]
    }
   ],
   "source": [
    "training_iter = 100\n",
    "model.train()\n",
    "likelihood.train()\n",
    "\n",
    "\n",
    "\n",
    "agg_data = y_train\n",
    "\n",
    "\n",
    "# for param_name, param in model.named_parameters():\n",
    "#     print(f'Parameter name: {param_name:42}') #' value = {param.item()}')\n",
    "#     print(param)\n",
    "optimizer = torch.optim.Adam(model.parameters(),  lr=0.1)  # Includes GaussianLikelihood parameters\n",
    "g_theta1 = x_train\n",
    "mll = gpytorch.mlls.ExactMarginalLogLikelihood(likelihood, model)\n",
    "for i in range(training_iter):\n",
    "    optimizer.zero_grad()\n",
    "    output = model(g_theta1)\n",
    "    loss = -mll(output, agg_data)\n",
    "    #loss = -likelihood.get_hpll(agg_data, g_theta1, model.mean_module, model.covar_module)\n",
    "    loss.backward()\n",
    "    #print((gpytorch.logdet(model.covar_module.forward(g_theta1, g_theta1.t()))))\n",
    "    print('Iter %d/%d - Loss: %.3f' % (i + 1, training_iter, loss.item()))\n",
    "    optimizer.step()"
   ]
  },
  {
   "cell_type": "code",
   "execution_count": 5,
   "metadata": {},
   "outputs": [
    {
     "name": "stdout",
     "output_type": "stream",
     "text": [
      "Parameter name: likelihood.task_noise_covar_factor        \n",
      "Parameter containing:\n",
      "tensor([[-0.1332],\n",
      "        [-1.2279]], requires_grad=True)\n",
      "Parameter name: likelihood.raw_noise                      \n",
      "Parameter containing:\n",
      "tensor([0.], requires_grad=True)\n",
      "Parameter name: mean_module.base_means.0.constant         \n",
      "Parameter containing:\n",
      "tensor([0.6949], requires_grad=True)\n",
      "Parameter name: mean_module.base_means.1.constant         \n",
      "Parameter containing:\n",
      "tensor([0.5778], requires_grad=True)\n",
      "Parameter name: covar_module.chol_11                      \n",
      "Parameter containing:\n",
      "tensor(1.0079, requires_grad=True)\n",
      "Parameter name: covar_module.chol_22                      \n",
      "Parameter containing:\n",
      "tensor(1.4393, requires_grad=True)\n",
      "Parameter name: covar_module.chol_21                      \n",
      "Parameter containing:\n",
      "tensor(0.5440, requires_grad=True)\n",
      "Parameter name: covar_module.task_covar_module.covar_factor\n",
      "Parameter containing:\n",
      "tensor([[ 1.1331],\n",
      "        [-0.5580]], requires_grad=True)\n",
      "Parameter name: covar_module.task_covar_module.raw_var    \n",
      "Parameter containing:\n",
      "tensor([ 0.2957, -1.0063], requires_grad=True)\n",
      "Parameter name: covar_module.data_covar_module.raw_lengthscale\n",
      "Parameter containing:\n",
      "tensor([[-5.8063]], requires_grad=True)\n"
     ]
    }
   ],
   "source": [
    "for param_name, param in model.named_parameters():\n",
    "    print(f'Parameter name: {param_name:42}') #' value = {param.item()}')\n",
    "    print(param)"
   ]
  },
  {
   "cell_type": "code",
   "execution_count": 6,
   "metadata": {},
   "outputs": [
    {
     "data": {
      "image/png": "[encoded data removed]",
      "text/plain": [
       "<Figure size 576x216 with 2 Axes>"
      ]
     },
     "metadata": {
      "needs_background": "light"
     },
     "output_type": "display_data"
    }
   ],
   "source": [
    "# Set into eval mode\n",
    "model.eval()\n",
    "likelihood.eval()\n",
    "\n",
    "# Initialize plots\n",
    "f, (y1_ax, y2_ax) = plt.subplots(1, 2, figsize=(8, 3))\n",
    "\n",
    "# Make predictions\n",
    "with torch.no_grad(), gpytorch.settings.fast_pred_var():\n",
    "    test_x = torch.linspace(0, 1, 51)\n",
    "    predictions = likelihood(model(test_x))\n",
    "    mean = predictions.mean\n",
    "    lower, upper = predictions.confidence_region()\n",
    "\n",
    "# This contains predictions for both tasks, flattened out\n",
    "# The first half of the predictions is for the first task\n",
    "# The second half is for the second task\n",
    "\n",
    "# Plot training data as black stars\n",
    "y1_ax.plot(train_x.detach().numpy(), train_y[:, 0].detach().numpy(), 'k*')\n",
    "# Predictive mean as blue line\n",
    "y1_ax.plot(test_x.numpy(), mean[:, 0].numpy(), 'b')\n",
    "# Shade in confidence\n",
    "y1_ax.fill_between(test_x.numpy(), lower[:, 0].numpy(), upper[:, 0].numpy(), alpha=0.5)\n",
    "y1_ax.set_ylim([-3, 3])\n",
    "y1_ax.legend(['Observed Data', 'Mean', 'Confidence'])\n",
    "y1_ax.set_title('Observed Values (Likelihood)')\n",
    "\n",
    "# Plot training data as black stars\n",
    "y2_ax.plot(train_x.detach().numpy(), train_y[:, 1].detach().numpy(), 'k*')\n",
    "# Predictive mean as blue line\n",
    "y2_ax.plot(test_x.numpy(), mean[:, 1].numpy(), 'b')\n",
    "# Shade in confidence\n",
    "y2_ax.fill_between(test_x.numpy(), lower[:, 1].numpy(), upper[:, 1].numpy(), alpha=0.5)\n",
    "y2_ax.set_ylim([-3, 3])\n",
    "y2_ax.legend(['Observed Data', 'Mean', 'Confidence'])\n",
    "y2_ax.set_title('Observed Values (Likelihood)')\n",
    "\n",
    "None"
   ]
  },
  {
   "cell_type": "code",
   "execution_count": null,
   "metadata": {},
   "outputs": [],
   "source": [
    "class param_opti(nn.Module):\n",
    "    def __init__(self, _theta2,k):\n",
    "        super(param_opti, self).__init__()\n",
    "        N = _theta2.shape[0]\n",
    "        indices = torch.randperm(N)[:k]\n",
    "        sampled_values= _theta2[indices]\n",
    "        self.g_theta2 = nn.Parameter(sampled_values)\n",
    "        \n",
    "    def forward(self):\n",
    "        \n",
    "        return (self.g_theta2)"
   ]
  },
  {
   "cell_type": "code",
   "execution_count": null,
   "metadata": {},
   "outputs": [],
   "source": [
    "def conduct_param_opti(x, training_iter):\n",
    "    f_target = torch.zeros(2,1)\n",
    "    f_target[0] = 0.5 *torch.sqrt(Tensor([2.]))\n",
    "    f_target[1] = 0.5 * torch.sqrt(Tensor([2.]))\n",
    "    #f_target = f_target.reshape(2,1)\n",
    "\n",
    "\n",
    "\n",
    "    \n",
    "    _par = param_opti(sample_x,20)\n",
    "\n",
    "    optimizer = torch.optim.Adam(_par.parameters(), lr=0.1)\n",
    "    \n",
    "    for i in range(training_iter):\n",
    "        optimizer.zero_grad()\n",
    "        g_theta2 = _par.forward()\n",
    "        loss = -likelihood.get_ell(agg_data,f_target,x, g_theta1, g_theta2, model.mean_module, model.covar_module)\n",
    "        loss.backward(retain_graph=True)\n",
    "        print('Iter %d/%d - Loss: %.3f' % (i + 1, training_iter, loss.item()))\n",
    "        optimizer.step()\n",
    "    print(g_theta2)\n",
    "    return loss"
   ]
  },
  {
   "cell_type": "code",
   "execution_count": null,
   "metadata": {},
   "outputs": [],
   "source": [
    "x = Tensor([1./6.])\n",
    "x = x.reshape(1,1)\n",
    "conduct_param_opti(x,100)"
   ]
  },
  {
   "cell_type": "code",
   "execution_count": null,
   "metadata": {},
   "outputs": [],
   "source": [
    "class design_opti(nn.Module):\n",
    "    def __init__(self, _x):\n",
    "        super(design_opti, self).__init__()\n",
    "        self.x_design = nn.Parameter(_x)\n",
    "        \n",
    "    def forward(self):\n",
    "        return self.x_design"
   ]
  },
  {
   "cell_type": "code",
   "execution_count": null,
   "metadata": {},
   "outputs": [],
   "source": [
    "def conduct_design_opti(training_iter_out, training_iter_in):\n",
    "    x = Tensor([0.5])\n",
    "    x = x.reshape(1,1)\n",
    "    design = design_opti(x)\n",
    "    optimizer = torch.optim.Adam(design.parameters(), lr=0.1)\n",
    "    for i in range(training_iter_out):\n",
    "        optimizer.zero_grad()\n",
    "        x = design.forward()\n",
    "        loss2 = conduct_param_opti(x,training_iter_in)\n",
    "        loss2.backward(retain_graph=True)\n",
    "        print('Iter %d/%d - Loss: %.3f' % (i + 1, training_iter, loss2.item()))\n",
    "        optimizer.step()\n",
    "    \n",
    "    print(x)\n",
    "    "
   ]
  },
  {
   "cell_type": "code",
   "execution_count": null,
   "metadata": {},
   "outputs": [],
   "source": [
    "conduct_design_opti(10, 50)"
   ]
  },
  {
   "cell_type": "code",
   "execution_count": null,
   "metadata": {},
   "outputs": [],
   "source": [
    "vf = VField()\n",
    "sample_size = 10\n",
    "v = torch.zeros(sample_size,2)\n",
    "loc = torch.zeros(sample_size,2)\n",
    "for i in range(sample_size):\n",
    "    loc[i] = Tensor(np.random.sample((2)))\n",
    "    v[i] = Tensor(vf(loc[i]))\n",
    "    \n",
    "test_size = 5\n",
    "test_x = torch.zeros(test_size,2)\n",
    "for i in range(test_size):\n",
    "    test_x[i] = Tensor(np.random.sample((2)))"
   ]
  },
  {
   "cell_type": "code",
   "execution_count": null,
   "metadata": {},
   "outputs": [],
   "source": [
    "test_x = Tensor([[0.2376]])\n",
    "predictions = likelihood(model(test_x))\n",
    "mean = predictions.mean\n",
    "lower, upper = predictions.confidence_region()"
   ]
  },
  {
   "cell_type": "code",
   "execution_count": null,
   "metadata": {},
   "outputs": [],
   "source": [
    "print(mean)"
   ]
  },
  {
   "cell_type": "code",
   "execution_count": null,
   "metadata": {},
   "outputs": [],
   "source": [
    "print(lower)\n",
    "print(upper)\n",
    "f_target = torch.zeros(2,1)\n",
    "f_target[0] = 0.5 *torch.sqrt(Tensor([2.]))\n",
    "f_target[1] = 0.5 * torch.sqrt(Tensor([2.]))\n",
    "print(f_target)"
   ]
  },
  {
   "cell_type": "code",
   "execution_count": null,
   "metadata": {},
   "outputs": [],
   "source": []
  }
 ],
 "metadata": {
  "kernelspec": {
   "display_name": "Python 3",
   "language": "python",
   "name": "python3"
  },
  "language_info": {
   "codemirror_mode": {
    "name": "ipython",
    "version": 3
   },
   "file_extension": ".py",
   "mimetype": "text/x-python",
   "name": "python",
   "nbconvert_exporter": "python",
   "pygments_lexer": "ipython3",
   "version": "3.7.4"
  }
 },
 "nbformat": 4,
 "nbformat_minor": 2
}
