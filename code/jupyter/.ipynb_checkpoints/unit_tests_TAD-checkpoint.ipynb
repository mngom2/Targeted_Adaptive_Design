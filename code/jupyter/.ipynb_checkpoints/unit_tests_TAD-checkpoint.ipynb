{
 "cells": [
  {
   "cell_type": "code",
   "execution_count": 1,
   "metadata": {},
   "outputs": [],
   "source": [
    "import math\n",
    "import torch\n",
    "from torch import nn\n",
    "from torch import Tensor\n",
    "from torch.nn  import functional as F\n",
    "import gpytorch\n",
    "from matplotlib import pyplot as plt\n",
    "import sys\n",
    "from decimal import Decimal\n",
    "sys.path.append(\"..\")\n",
    "import vvkernels as vvk\n",
    "import vvk_rbfkernel as vvk_rbf\n",
    "import vvmeans as vvm\n",
    "import vvlikelihood as vvll\n",
    "from vfield import VField\n",
    "import numpy as np\n",
    "%matplotlib inline\n",
    "%load_ext autoreload\n",
    "%autoreload 2"
   ]
  },
  {
   "cell_type": "code",
   "execution_count": 2,
   "metadata": {},
   "outputs": [],
   "source": [
    "sample_x = torch.linspace(0, 1, 300)\n",
    "k = 50\n",
    "N = sample_x.shape[0]\n",
    "indices = torch.randperm(N)[:k]\n",
    "train_x = sample_x[indices]\n",
    "#train_x = train_x.reshape(train_x.shape[0],1)\n",
    "\n",
    "train_y = torch.stack([\n",
    "    torch.sin(train_x * (2 * math.pi)) + torch.randn(train_x.size()) * 0.2,\n",
    "    torch.cos(train_x * (2 * math.pi)) + torch.randn(train_x.size()) * 0.2,\n",
    "], -1)\n",
    "\n",
    "def g_theta(theta):\n",
    "    return torch.linspace(0, 1, 10)"
   ]
  },
  {
   "cell_type": "code",
   "execution_count": 3,
   "metadata": {},
   "outputs": [],
   "source": [
    "\n",
    "x_train = train_x #loc #torch.linspace(0, 1, 10)\n",
    "y_train = train_y #v  #torch.stack([torch.sin(train_x * (2 * math.pi)) + torch.randn(train_x.size()) * 0.2,torch.cos(train_x * (2 * math.pi)) + torch.randn(train_x.size()) * 0.2,], -1)\n",
    "\n",
    "class MultitaskGPModel(gpytorch.models.ExactGP):\n",
    "    def __init__(self, train_x, train_y, likelihood):\n",
    "        super(MultitaskGPModel, self).__init__(train_x, train_y, likelihood)\n",
    "        a = torch.ones(2,2)\n",
    "        chol_q = torch.tril(a)\n",
    "        self.mean_module = vvm.TensorProductSubMean(gpytorch.means.ConstantMean(), num_tasks = 2)\n",
    "#         self.covar_module = gpytorch.kernels.MultitaskKernel(\n",
    "#             gpytorch.kernels.RBFKernel(), num_tasks=2, rank=1\n",
    "#         )\n",
    "        self.covar_module = vvk.TensorProductKernel(vvk_rbf.vvkRBFKernel(), a[0,0], a[1,0], a[1,1], num_tasks = 2, rank =1,  task_covar_prior=None)\n",
    "\n",
    "    def forward(self, x):\n",
    "        mean_x = self.mean_module(x)\n",
    "        covar_x = self.covar_module(x,x)\n",
    "        return gpytorch.distributions.MultitaskMultivariateNormal(mean_x, covar_x)\n",
    "    \n",
    "    \n"
   ]
  },
  {
   "cell_type": "code",
   "execution_count": 4,
   "metadata": {},
   "outputs": [],
   "source": [
    "###hyperparameters optimization###\n",
    "def hyper_opti(g_theta1, agg_data, training_iter):\n",
    "    likelihood = vvll.TensorProductLikelihood(num_tasks = 2)\n",
    "    model = MultitaskGPModel(g_theta1, agg_data.reshape(g_theta1.shape[0],2), likelihood)\n",
    "    model.train()\n",
    "    likelihood.train()\n",
    "\n",
    "    optimizer = torch.optim.Adam(model.parameters(),  lr=0.1)  # Includes GaussianLikelihood parameters\n",
    "\n",
    "    for i in range(training_iter):\n",
    "        optimizer.zero_grad()\n",
    "        output = model(g_theta1)\n",
    "        output_ll = likelihood(output)\n",
    "\n",
    "        loss = -likelihood.get_mll(agg_data,output_ll)\n",
    "        loss.backward(retain_graph=True)\n",
    "\n",
    "        print('Iter %d/%d - Loss hyperparam: %.3f' % (i + 1, training_iter, loss.item()))\n",
    "        optimizer.step()\n",
    "    return model, likelihood\n"
   ]
  },
  {
   "cell_type": "code",
   "execution_count": 5,
   "metadata": {},
   "outputs": [],
   "source": [
    "class param_opti(nn.Module):\n",
    "    def __init__(self, _theta2,k):\n",
    "        super(param_opti, self).__init__()\n",
    "        N = _theta2.shape[0]\n",
    "        indices = torch.randperm(N)[:k]\n",
    "        sampled_values= _theta2[indices]\n",
    "        sampled_values = sampled_values.reshape(sampled_values.shape[0], 1)\n",
    "        self.g_theta2 = nn.Parameter(sampled_values)\n",
    "        \n",
    "    def forward(self):\n",
    "        \n",
    "        return (self.g_theta2)"
   ]
  },
  {
   "cell_type": "code",
   "execution_count": 7,
   "metadata": {},
   "outputs": [
    {
     "ename": "IndentationError",
     "evalue": "unindent does not match any outer indentation level (<tokenize>, line 7)",
     "output_type": "error",
     "traceback": [
      "\u001b[0;36m  File \u001b[0;32m\"<tokenize>\"\u001b[0;36m, line \u001b[0;32m7\u001b[0m\n\u001b[0;31m    model.train()\u001b[0m\n\u001b[0m    ^\u001b[0m\n\u001b[0;31mIndentationError\u001b[0m\u001b[0;31m:\u001b[0m unindent does not match any outer indentation level\n"
     ]
    }
   ],
   "source": [
    "def conduct_param_opti(x,g_theta1, agg_data, model, likelihood, training_iter):\n",
    "    f_target = 0.5 *torch.sqrt(Tensor([2.])) * torch.ones(x.shape)  #torch.zeros(2,1)\n",
    "#     f_target[0] = 0.5 *torch.sqrt(Tensor([2.]))\n",
    "#     f_target[1] = 0.5 * torch.sqrt(Tensor([2.]))\n",
    "    #f_target = f_target.reshape(2,1)\n",
    "\n",
    "    model.train()\n",
    "    likelihood.train()\n",
    "\n",
    "    \n",
    "    _par = param_opti(sample_x,20)\n",
    "\n",
    "    optimizer = torch.optim.Adam(_par.parameters(), lr=0.1)\n",
    "    \n",
    "    for i in range(training_iter):\n",
    "        optimizer.zero_grad()\n",
    "        g_theta2 = _par.forward()\n",
    "        \n",
    "        loss1 = -likelihood.get_ell(agg_data,f_target,x, g_theta1, g_theta2, model.mean_module, model.covar_module)\n",
    "        loss1.backward(retain_graph=True)\n",
    "        print('Iter %d/%d - Loss theta2: %.3f' % (i + 1, training_iter, loss1.item()))\n",
    "        optimizer.step()\n",
    "    return loss1, g_theta2"
   ]
  },
  {
   "cell_type": "code",
   "execution_count": null,
   "metadata": {},
   "outputs": [],
   "source": [
    "class design_opti(nn.Module):\n",
    "    def __init__(self, _x):\n",
    "        super(design_opti, self).__init__()\n",
    "        self.x_design = nn.Parameter(_x)\n",
    "        \n",
    "    def forward(self):\n",
    "        return self.x_design"
   ]
  },
  {
   "cell_type": "code",
   "execution_count": null,
   "metadata": {},
   "outputs": [],
   "source": [
    "def conduct_design_opti(x0, g_theta1, agg_data, model, likelihood, training_iter_out, training_iter_in):\n",
    "    design = design_opti(x0)\n",
    "    optimizer = torch.optim.Adam(design.parameters(), lr=0.1)\n",
    "    with torch.autograd.set_detect_anomaly(True):\n",
    "        for i in range(training_iter_out):\n",
    "            optimizer.zero_grad()\n",
    "            x_d = design.forward()\n",
    "            loss2, g_theta2 = conduct_param_opti(x_d, g_theta1, agg_data, model, likelihood,training_iter_in)\n",
    "            loss2.backward(retain_graph=True)\n",
    "            print('Iter %d/%d - Loss design: %.3f' % (i + 1, training_iter_out, loss2.item()))\n",
    "            optimizer.step()\n",
    "    return x_d, g_theta2\n",
    "    \n",
    "    "
   ]
  },
  {
   "cell_type": "code",
   "execution_count": null,
   "metadata": {},
   "outputs": [],
   "source": [
    "iter_hp = 50\n",
    "iter_design = 20\n",
    "iter_param = 30\n",
    "g_theta1 = []\n",
    "agg_data = []\n",
    "g_theta1.append((x_train).flatten())\n",
    "g_theta11 = torch.cat(g_theta1)\n",
    "g_theta11= g_theta11.unsqueeze(-1)\n",
    "\n",
    "agg_data.append(y_train.flatten())\n",
    "agg_data1 = torch.cat(agg_data)\n",
    "\n",
    "x0 = torch.linspace(0, 1, 5)\n",
    "x0 = x0.reshape(x0.shape[0],1)\n",
    "\n",
    "for i in range(30):\n",
    "    print('START HYPERPARAMETERS optimization')\n",
    "    model, likelihood = hyper_opti(g_theta11,agg_data1,iter_hp)\n",
    "    print('END HYPERPARAMETERS optimization')\n",
    "    x0_new, g_theta2 = conduct_design_opti(x0, g_theta11,agg_data1, model, likelihood, iter_design, iter_param)\n",
    "    x0 = x0_new\n",
    "    model.eval()\n",
    "    likelihood.eval()\n",
    "    pred = likelihood(model(g_theta2))\n",
    "    y_train_new = (pred.mean)\n",
    "    agg_data.append(y_train_new.flatten())\n",
    "    agg_data1 = torch.cat(agg_data)\n",
    "    \n",
    "    g_theta1.append(g_theta2.flatten())\n",
    "    g_theta11 = torch.cat(g_theta1)\n",
    "    g_theta11= g_theta11.unsqueeze(-1)\n",
    "\n",
    "print(x0_new)\n",
    "    "
   ]
  },
  {
   "cell_type": "code",
   "execution_count": null,
   "metadata": {},
   "outputs": [],
   "source": [
    "x0 = Tensor([-1.8333])\n",
    "model.eval()\n",
    "likelihood.eval()\n",
    "pr = likelihood((model(x0)))\n",
    "print(pr.mean)"
   ]
  },
  {
   "cell_type": "code",
   "execution_count": null,
   "metadata": {},
   "outputs": [],
   "source": [
    "model.covar_module(x0,x0).evaluate()"
   ]
  },
  {
   "cell_type": "code",
   "execution_count": null,
   "metadata": {},
   "outputs": [],
   "source": [
    "model.covar_module.forward(x0,x0)"
   ]
  },
  {
   "cell_type": "code",
   "execution_count": null,
   "metadata": {},
   "outputs": [],
   "source": [
    "print((model(x0)).covariance_matrix)"
   ]
  },
  {
   "cell_type": "code",
   "execution_count": null,
   "metadata": {},
   "outputs": [],
   "source": []
  }
 ],
 "metadata": {
  "kernelspec": {
   "display_name": "Python 3",
   "language": "python",
   "name": "python3"
  },
  "language_info": {
   "codemirror_mode": {
    "name": "ipython",
    "version": 3
   },
   "file_extension": ".py",
   "mimetype": "text/x-python",
   "name": "python",
   "nbconvert_exporter": "python",
   "pygments_lexer": "ipython3",
   "version": "3.7.4"
  }
 },
 "nbformat": 4,
 "nbformat_minor": 2
}
