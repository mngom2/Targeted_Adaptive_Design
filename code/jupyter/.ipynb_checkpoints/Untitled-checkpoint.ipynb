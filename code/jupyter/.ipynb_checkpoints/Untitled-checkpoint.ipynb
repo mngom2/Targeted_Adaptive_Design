{
 "cells": [
  {
   "cell_type": "code",
   "execution_count": 1,
   "id": "479fe9d6",
   "metadata": {},
   "outputs": [],
   "source": [
    "import torch"
   ]
  },
  {
   "cell_type": "code",
   "execution_count": 2,
   "id": "cfccfbd7",
   "metadata": {},
   "outputs": [],
   "source": [
    "def test(a):\n",
    "    a = a.cuda()"
   ]
  },
  {
   "cell_type": "code",
   "execution_count": 3,
   "id": "cf811cb9",
   "metadata": {},
   "outputs": [],
   "source": [
    "t = torch.tensor([1.])\n",
    "test(t)"
   ]
  }
 ],
 "metadata": {
  "kernelspec": {
   "display_name": "python_venv",
   "language": "python",
   "name": "python_venv"
  },
  "language_info": {
   "codemirror_mode": {
    "name": "ipython",
    "version": 3
   },
   "file_extension": ".py",
   "mimetype": "text/x-python",
   "name": "python",
   "nbconvert_exporter": "python",
   "pygments_lexer": "ipython3",
   "version": "3.8.13"
  }
 },
 "nbformat": 4,
 "nbformat_minor": 5
}
