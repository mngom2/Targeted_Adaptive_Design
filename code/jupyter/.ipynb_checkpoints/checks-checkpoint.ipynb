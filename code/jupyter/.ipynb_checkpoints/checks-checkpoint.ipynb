{
 "cells": [
  {
   "cell_type": "code",
   "execution_count": 40,
   "metadata": {},
   "outputs": [
    {
     "name": "stdout",
     "output_type": "stream",
     "text": [
      "The autoreload extension is already loaded. To reload it, use:\n",
      "  %reload_ext autoreload\n"
     ]
    }
   ],
   "source": [
    "import math\n",
    "import torch\n",
    "from torch import nn\n",
    "from torch import Tensor\n",
    "from torch.nn  import functional as F\n",
    "import gpytorch\n",
    "from matplotlib import pyplot as plt\n",
    "import sys\n",
    "from decimal import Decimal\n",
    "sys.path.append(\"..\")\n",
    "import vvkernels as vvk\n",
    "import vvk_rbfkernel as vvk_rbf\n",
    "import vvmeans as vvm\n",
    "import vvlikelihood as vvll\n",
    "from vfield import VField\n",
    "import numpy as np\n",
    "%matplotlib inline\n",
    "%load_ext autoreload\n",
    "%autoreload 2"
   ]
  },
  {
   "cell_type": "code",
   "execution_count": 41,
   "metadata": {},
   "outputs": [],
   "source": [
    "sample_x = torch.linspace(0, 1, 300)\n",
    "k = 20\n",
    "N = sample_x.shape[0]\n",
    "indices = torch.randperm(N)[:k]\n",
    "train_x = sample_x[indices]\n",
    "#train_x = train_x.reshape(train_x.shape[0],1)\n",
    "\n",
    "train_y = torch.stack([\n",
    "    torch.sin(train_x * (2 * math.pi)) + torch.randn(train_x.size()) * 0.2,\n",
    "    torch.cos(train_x * (2 * math.pi)) + torch.randn(train_x.size()) * 0.2,\n",
    "], -1)\n",
    "\n",
    "def g_theta(theta):\n",
    "    return torch.linspace(0, 1, 10)"
   ]
  },
  {
   "cell_type": "code",
   "execution_count": 42,
   "metadata": {},
   "outputs": [],
   "source": [
    "\n",
    "x_train = train_x #loc #torch.linspace(0, 1, 10)\n",
    "y_train = train_y #v  #torch.stack([torch.sin(train_x * (2 * math.pi)) + torch.randn(train_x.size()) * 0.2,torch.cos(train_x * (2 * math.pi)) + torch.randn(train_x.size()) * 0.2,], -1)\n",
    "\n",
    "class MultitaskGPModel(gpytorch.models.ExactGP):\n",
    "    def __init__(self, train_x, train_y, likelihood):\n",
    "        super(MultitaskGPModel, self).__init__(train_x, train_y, likelihood)\n",
    "        a = torch.ones(2,2)\n",
    "        chol_q = torch.tril(a)\n",
    "        self.mean_module = vvm.TensorProductSubMean(gpytorch.means.ConstantMean(), num_tasks = 2)\n",
    "#         self.covar_module = gpytorch.kernels.MultitaskKernel(\n",
    "#             gpytorch.kernels.RBFKernel(), num_tasks=2, rank=1\n",
    "#         )\n",
    "        self.covar_module = vvk.TensorProductKernel(vvk_rbf.vvkRBFKernel(), a[0,0], a[1,0], a[1,1], num_tasks = 2, rank =1,  task_covar_prior=None)\n",
    "\n",
    "    def forward(self, x):\n",
    "        mean_x = self.mean_module(x)\n",
    "        covar_x = self.covar_module(x,x)\n",
    "        return gpytorch.distributions.MultitaskMultivariateNormal(mean_x, covar_x)\n",
    "    \n",
    "    \n",
    "\n",
    "\n",
    "\n",
    "\n",
    "likelihood = vvll.TensorProductLikelihood(num_tasks = 2)\n",
    "\n",
    "\n",
    "\n",
    "model = MultitaskGPModel(x_train, y_train, likelihood)\n",
    "\n"
   ]
  },
  {
   "cell_type": "code",
   "execution_count": 43,
   "metadata": {},
   "outputs": [
    {
     "name": "stdout",
     "output_type": "stream",
     "text": [
      "START HYPERPARAMETERS optimization\n",
      "Iter 1/50 - Loss: 49.832\n",
      "Iter 2/50 - Loss: 47.516\n",
      "Iter 3/50 - Loss: 45.176\n",
      "Iter 4/50 - Loss: 42.902\n",
      "Iter 5/50 - Loss: 40.777\n",
      "Iter 6/50 - Loss: 38.822\n",
      "Iter 7/50 - Loss: 36.941\n",
      "Iter 8/50 - Loss: 35.115\n",
      "Iter 9/50 - Loss: 33.455\n",
      "Iter 10/50 - Loss: 32.071\n",
      "Iter 11/50 - Loss: 30.920\n",
      "Iter 12/50 - Loss: 29.838\n",
      "Iter 13/50 - Loss: 28.682\n",
      "Iter 14/50 - Loss: 27.392\n",
      "Iter 15/50 - Loss: 25.981\n",
      "Iter 16/50 - Loss: 24.508\n",
      "Iter 17/50 - Loss: 23.060\n",
      "Iter 18/50 - Loss: 21.709\n",
      "Iter 19/50 - Loss: 20.498\n",
      "Iter 20/50 - Loss: 19.426\n",
      "Iter 21/50 - Loss: 18.441\n",
      "Iter 22/50 - Loss: 17.464\n",
      "Iter 23/50 - Loss: 16.462\n",
      "Iter 24/50 - Loss: 15.466\n",
      "Iter 25/50 - Loss: 14.554\n",
      "Iter 26/50 - Loss: 13.822\n",
      "Iter 27/50 - Loss: 13.284\n",
      "Iter 28/50 - Loss: 12.822\n",
      "Iter 29/50 - Loss: 12.286\n",
      "Iter 30/50 - Loss: 11.636\n",
      "Iter 31/50 - Loss: 10.960\n",
      "Iter 32/50 - Loss: 10.398\n",
      "Iter 33/50 - Loss: 10.038\n",
      "Iter 34/50 - Loss: 9.844\n",
      "Iter 35/50 - Loss: 9.687\n",
      "Iter 36/50 - Loss: 9.463\n",
      "Iter 37/50 - Loss: 9.211\n",
      "Iter 38/50 - Loss: 9.051\n",
      "Iter 39/50 - Loss: 9.003\n",
      "Iter 40/50 - Loss: 9.035\n",
      "Iter 41/50 - Loss: 9.138\n",
      "Iter 42/50 - Loss: 9.215\n",
      "Iter 43/50 - Loss: 9.166\n",
      "Iter 44/50 - Loss: 9.051\n",
      "Iter 45/50 - Loss: 8.984\n",
      "Iter 46/50 - Loss: 8.986\n",
      "Iter 47/50 - Loss: 9.038\n",
      "Iter 48/50 - Loss: 9.124\n",
      "Iter 49/50 - Loss: 9.193\n",
      "Iter 50/50 - Loss: 9.203\n",
      "END HYPERPARAMETERS optimization\n"
     ]
    }
   ],
   "source": [
    "print('START HYPERPARAMETERS optimization')\n",
    "training_iter = 50\n",
    "model.train()\n",
    "likelihood.train()\n",
    "\n",
    "\n",
    "\n",
    "agg_data = torch.flatten(y_train)\n",
    "\n",
    "\n",
    "\n",
    "\n",
    "optimizer = torch.optim.Adam(model.parameters(),  lr=0.1)  # Includes GaussianLikelihood parameters\n",
    "g_theta1 = x_train.reshape(x_train.shape[0], 1)\n",
    "for i in range(training_iter):\n",
    "    optimizer.zero_grad()\n",
    "    output = model(g_theta1)\n",
    "    output_ll = likelihood(output)\n",
    "\n",
    "    loss = -likelihood.get_mll(agg_data,output_ll)\n",
    "    loss.backward()\n",
    " \n",
    "    print('Iter %d/%d - Loss: %.3f' % (i + 1, training_iter, loss.item()))\n",
    "    optimizer.step()\n",
    "print('END HYPERPARAMETERS optimization')"
   ]
  },
  {
   "cell_type": "code",
   "execution_count": 44,
   "metadata": {},
   "outputs": [
    {
     "data": {
      "image/png": "[encoded data removed]",
      "text/plain": [
       "<Figure size 576x216 with 2 Axes>"
      ]
     },
     "metadata": {
      "needs_background": "light"
     },
     "output_type": "display_data"
    }
   ],
   "source": [
    "# Set into eval mode\n",
    "model.eval()\n",
    "likelihood.eval()\n",
    "\n",
    "# Initialize plots\n",
    "f, (y1_ax, y2_ax) = plt.subplots(1, 2, figsize=(8, 3))\n",
    "\n",
    "# Make predictions\n",
    "with torch.no_grad(), gpytorch.settings.fast_pred_var():\n",
    "    test_x = torch.linspace(0, 1, 51)\n",
    "    predictions = likelihood(model(test_x))\n",
    "    mean = predictions.mean\n",
    "    lower, upper = predictions.confidence_region()\n",
    "\n",
    "# This contains predictions for both tasks, flattened out\n",
    "# The first half of the predictions is for the first task\n",
    "# The second half is for the second task\n",
    "\n",
    "# Plot training data as black stars\n",
    "y1_ax.plot(train_x.detach().numpy(), train_y[:, 0].detach().numpy(), 'k*')\n",
    "# Predictive mean as blue line\n",
    "y1_ax.plot(test_x.numpy(), mean[:, 0].numpy(), 'b')\n",
    "# Shade in confidence\n",
    "y1_ax.fill_between(test_x.numpy(), lower[:, 0].numpy(), upper[:, 0].numpy(), alpha=0.5)\n",
    "y1_ax.set_ylim([-3, 3])\n",
    "y1_ax.legend(['Observed Data', 'Mean', 'Confidence'])\n",
    "y1_ax.set_title('Observed Values (Likelihood)')\n",
    "\n",
    "# Plot training data as black stars\n",
    "y2_ax.plot(train_x.detach().numpy(), train_y[:, 1].detach().numpy(), 'k*')\n",
    "# Predictive mean as blue line\n",
    "y2_ax.plot(test_x.numpy(), mean[:, 1].numpy(), 'b')\n",
    "# Shade in confidence\n",
    "y2_ax.fill_between(test_x.numpy(), lower[:, 1].numpy(), upper[:, 1].numpy(), alpha=0.5)\n",
    "y2_ax.set_ylim([-3, 3])\n",
    "y2_ax.legend(['Observed Data', 'Mean', 'Confidence'])\n",
    "y2_ax.set_title('Observed Values (Likelihood)')\n",
    "\n",
    "None"
   ]
  },
  {
   "cell_type": "code",
   "execution_count": null,
   "metadata": {},
   "outputs": [],
   "source": []
  }
 ],
 "metadata": {
  "kernelspec": {
   "display_name": "Python 3",
   "language": "python",
   "name": "python3"
  },
  "language_info": {
   "codemirror_mode": {
    "name": "ipython",
    "version": 3
   },
   "file_extension": ".py",
   "mimetype": "text/x-python",
   "name": "python",
   "nbconvert_exporter": "python",
   "pygments_lexer": "ipython3",
   "version": "3.7.4"
  }
 },
 "nbformat": 4,
 "nbformat_minor": 2
}
