{
 "cells": [
  {
   "cell_type": "code",
   "execution_count": 6,
   "id": "85e49d9b",
   "metadata": {},
   "outputs": [],
   "source": [
    "import torch"
   ]
  },
  {
   "cell_type": "code",
   "execution_count": 7,
   "id": "637801e1",
   "metadata": {},
   "outputs": [],
   "source": [
    "def test(a):\n",
    "    a = a.cuda()"
   ]
  },
  {
   "cell_type": "code",
   "execution_count": 8,
   "id": "d65988f3",
   "metadata": {},
   "outputs": [
    {
     "name": "stdout",
     "output_type": "stream",
     "text": [
      "cpu\n"
     ]
    }
   ],
   "source": [
    "t = torch.tensor([1.])\n",
    "test(t)\n",
    "print(t.device)"
   ]
  }
 ],
 "metadata": {
  "kernelspec": {
   "display_name": "python_venv",
   "language": "python",
   "name": "python_venv"
  },
  "language_info": {
   "codemirror_mode": {
    "name": "ipython",
    "version": 3
   },
   "file_extension": ".py",
   "mimetype": "text/x-python",
   "name": "python",
   "nbconvert_exporter": "python",
   "pygments_lexer": "ipython3",
   "version": "3.8.13"
  }
 },
 "nbformat": 4,
 "nbformat_minor": 5
}
