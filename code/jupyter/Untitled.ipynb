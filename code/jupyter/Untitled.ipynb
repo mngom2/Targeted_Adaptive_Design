{
 "cells": [
  {
   "cell_type": "code",
   "execution_count": 39,
   "metadata": {},
   "outputs": [
    {
     "name": "stdout",
     "output_type": "stream",
     "text": [
      "The autoreload extension is already loaded. To reload it, use:\n",
      "  %reload_ext autoreload\n"
     ]
    }
   ],
   "source": [
    "import math\n",
    "import torch\n",
    "import gpytorch\n",
    "from matplotlib import pyplot as plt\n",
    "\n",
    "%matplotlib inline\n",
    "%load_ext autoreload\n",
    "%autoreload 2"
   ]
  },
  {
   "cell_type": "code",
   "execution_count": 47,
   "metadata": {},
   "outputs": [
    {
     "name": "stdout",
     "output_type": "stream",
     "text": [
      "torch.Size([100, 2])\n"
     ]
    }
   ],
   "source": [
    "train_x = torch.linspace(0, 1, 100)\n",
    "\n",
    "train_y = torch.stack([\n",
    "    torch.sin(train_x * (2 * math.pi)) + torch.randn(train_x.size()) * 0.2,\n",
    "    torch.cos(train_x * (2 * math.pi)) + torch.randn(train_x.size()) * 0.2,\n",
    "], -1)\n",
    "print(train_y.shape)"
   ]
  },
  {
   "cell_type": "code",
   "execution_count": 48,
   "metadata": {},
   "outputs": [],
   "source": [
    "class MultitaskGPModel(gpytorch.models.ExactGP):\n",
    "    def __init__(self, train_x, train_y, likelihood):\n",
    "        super(MultitaskGPModel, self).__init__(train_x, train_y, likelihood)\n",
    "        self.mean_module = gpytorch.means.MultitaskMean(\n",
    "            gpytorch.means.ConstantMean(), num_tasks=2\n",
    "        )\n",
    "        self.covar_module = gpytorch.kernels.MultitaskKernel(\n",
    "            gpytorch.kernels.RBFKernel(), num_tasks=2, rank=1\n",
    "        )\n",
    "\n",
    "    def forward(self, x):\n",
    "        mean_x = self.mean_module(x)\n",
    "        covar_x = self.covar_module(x)\n",
    "        return gpytorch.distributions.MultitaskMultivariateNormal(mean_x, covar_x)\n",
    "\n",
    "\n",
    "likelihood = gpytorch.likelihoods.MultitaskGaussianLikelihood(num_tasks=2)\n",
    "model = MultitaskGPModel(train_x, train_y, likelihood)"
   ]
  },
  {
   "cell_type": "code",
   "execution_count": 56,
   "metadata": {},
   "outputs": [
    {
     "name": "stdout",
     "output_type": "stream",
     "text": [
      "torch.Size([200, 200])\n",
      "Iter 1/50 - Loss: -1.183\n",
      "torch.Size([200, 200])\n",
      "Iter 2/50 - Loss: -0.932\n",
      "torch.Size([200, 200])\n",
      "Iter 3/50 - Loss: -1.100\n",
      "torch.Size([200, 200])\n",
      "Iter 4/50 - Loss: -1.100\n",
      "torch.Size([200, 200])\n",
      "Iter 5/50 - Loss: -1.062\n",
      "torch.Size([200, 200])\n",
      "Iter 6/50 - Loss: -1.103\n",
      "torch.Size([200, 200])\n",
      "Iter 7/50 - Loss: -1.153\n",
      "torch.Size([200, 200])\n",
      "Iter 8/50 - Loss: -1.147\n",
      "torch.Size([200, 200])\n",
      "Iter 9/50 - Loss: -1.112\n",
      "torch.Size([200, 200])\n",
      "Iter 10/50 - Loss: -1.114\n",
      "torch.Size([200, 200])\n",
      "Iter 11/50 - Loss: -1.146\n",
      "torch.Size([200, 200])\n",
      "Iter 12/50 - Loss: -1.171\n",
      "torch.Size([200, 200])\n",
      "Iter 13/50 - Loss: -1.173\n",
      "torch.Size([200, 200])\n",
      "Iter 14/50 - Loss: -1.159\n",
      "torch.Size([200, 200])\n",
      "Iter 15/50 - Loss: -1.146\n",
      "torch.Size([200, 200])\n",
      "Iter 16/50 - Loss: -1.148\n",
      "torch.Size([200, 200])\n",
      "Iter 17/50 - Loss: -1.163\n",
      "torch.Size([200, 200])\n",
      "Iter 18/50 - Loss: -1.177\n",
      "torch.Size([200, 200])\n",
      "Iter 19/50 - Loss: -1.177\n",
      "torch.Size([200, 200])\n",
      "Iter 20/50 - Loss: -1.168\n",
      "torch.Size([200, 200])\n",
      "Iter 21/50 - Loss: -1.166\n",
      "torch.Size([200, 200])\n",
      "Iter 22/50 - Loss: -1.172\n",
      "torch.Size([200, 200])\n",
      "Iter 23/50 - Loss: -1.178\n",
      "torch.Size([200, 200])\n",
      "Iter 24/50 - Loss: -1.178\n",
      "torch.Size([200, 200])\n",
      "Iter 25/50 - Loss: -1.176\n",
      "torch.Size([200, 200])\n",
      "Iter 26/50 - Loss: -1.174\n",
      "torch.Size([200, 200])\n",
      "Iter 27/50 - Loss: -1.175\n",
      "torch.Size([200, 200])\n",
      "Iter 28/50 - Loss: -1.180\n",
      "torch.Size([200, 200])\n",
      "Iter 29/50 - Loss: -1.184\n",
      "torch.Size([200, 200])\n",
      "Iter 30/50 - Loss: -1.181\n",
      "torch.Size([200, 200])\n",
      "Iter 31/50 - Loss: -1.177\n",
      "torch.Size([200, 200])\n",
      "Iter 32/50 - Loss: -1.178\n",
      "torch.Size([200, 200])\n",
      "Iter 33/50 - Loss: -1.181\n",
      "torch.Size([200, 200])\n",
      "Iter 34/50 - Loss: -1.183\n",
      "torch.Size([200, 200])\n",
      "Iter 35/50 - Loss: -1.183\n",
      "torch.Size([200, 200])\n",
      "Iter 36/50 - Loss: -1.182\n",
      "torch.Size([200, 200])\n",
      "Iter 37/50 - Loss: -1.181\n",
      "torch.Size([200, 200])\n",
      "Iter 38/50 - Loss: -1.182\n",
      "torch.Size([200, 200])\n",
      "Iter 39/50 - Loss: -1.184\n",
      "torch.Size([200, 200])\n",
      "Iter 40/50 - Loss: -1.184\n",
      "torch.Size([200, 200])\n",
      "Iter 41/50 - Loss: -1.183\n",
      "torch.Size([200, 200])\n",
      "Iter 42/50 - Loss: -1.182\n",
      "torch.Size([200, 200])\n",
      "Iter 43/50 - Loss: -1.183\n",
      "torch.Size([200, 200])\n",
      "Iter 44/50 - Loss: -1.184\n",
      "torch.Size([200, 200])\n",
      "Iter 45/50 - Loss: -1.184\n",
      "torch.Size([200, 200])\n",
      "Iter 46/50 - Loss: -1.184\n",
      "torch.Size([200, 200])\n",
      "Iter 47/50 - Loss: -1.184\n",
      "torch.Size([200, 200])\n",
      "Iter 48/50 - Loss: -1.184\n",
      "torch.Size([200, 200])\n",
      "Iter 49/50 - Loss: -1.185\n",
      "torch.Size([200, 200])\n",
      "Iter 50/50 - Loss: -1.184\n"
     ]
    }
   ],
   "source": [
    "# this is for running the notebook in our testing framework\n",
    "import os\n",
    "smoke_test = ('CI' in os.environ)\n",
    "training_iterations = 2 if smoke_test else 50\n",
    "\n",
    "\n",
    "# Find optimal model hyperparameters\n",
    "model.train()\n",
    "likelihood.train()\n",
    "\n",
    "\n",
    "# Use the adam optimizer\n",
    "optimizer = torch.optim.Adam(model.parameters(), lr=0.1)  # Includes GaussianLikelihood parameters\n",
    "\n",
    "mll = gpytorch.mlls.ExactMarginalLogLikelihood(likelihood, model)\n",
    "\n",
    "for i in range(training_iterations):\n",
    "    optimizer.zero_grad()\n",
    "    output = model(train_x)\n",
    "    print(output.covariance_matrix.shape)\n",
    "    loss = -mll(output, train_y)\n",
    "    loss.backward()\n",
    "    print('Iter %d/%d - Loss: %.3f' % (i + 1, training_iterations, loss.item()))\n",
    "    optimizer.step()"
   ]
  },
  {
   "cell_type": "code",
   "execution_count": 50,
   "metadata": {},
   "outputs": [
    {
     "name": "stdout",
     "output_type": "stream",
     "text": [
      "Parameter name: likelihood.raw_task_noises                \n",
      "blaaa\n",
      "Parameter containing:\n",
      "tensor([-4.1465, -4.0235], requires_grad=True)\n",
      "Parameter name: likelihood.raw_noise                      \n",
      "blaaa\n",
      "Parameter containing:\n",
      "tensor([-4.0866], requires_grad=True)\n",
      "Parameter name: mean_module.base_means.0.constant         \n",
      "blaaa\n",
      "Parameter containing:\n",
      "tensor([0.0057], requires_grad=True)\n",
      "Parameter name: mean_module.base_means.1.constant         \n",
      "blaaa\n",
      "Parameter containing:\n",
      "tensor([0.2767], requires_grad=True)\n",
      "Parameter name: covar_module.task_covar_module.covar_factor\n",
      "blaaa\n",
      "Parameter containing:\n",
      "tensor([[0.6163],\n",
      "        [0.0476]], requires_grad=True)\n",
      "Parameter name: covar_module.task_covar_module.raw_var    \n",
      "blaaa\n",
      "Parameter containing:\n",
      "tensor([-0.8455,  0.2460], requires_grad=True)\n",
      "Parameter name: covar_module.data_covar_module.raw_lengthscale\n",
      "blaaa\n",
      "Parameter containing:\n",
      "tensor([[-1.2297]], requires_grad=True)\n"
     ]
    }
   ],
   "source": [
    "for param_name, param in model.named_parameters():\n",
    "    print(f'Parameter name: {param_name:42}') #' value = {param.item()}')\n",
    "    print('blaaa')\n",
    "    print(param)"
   ]
  },
  {
   "cell_type": "code",
   "execution_count": 52,
   "metadata": {},
   "outputs": [
    {
     "data": {
      "image/png": "[encoded data removed]",
      "text/plain": [
       "<Figure size 576x216 with 2 Axes>"
      ]
     },
     "metadata": {
      "needs_background": "light"
     },
     "output_type": "display_data"
    }
   ],
   "source": [
    "# Set into eval mode\n",
    "model.eval()\n",
    "likelihood.eval()\n",
    "\n",
    "# Initialize plots\n",
    "f, (y1_ax, y2_ax) = plt.subplots(1, 2, figsize=(8, 3))\n",
    "\n",
    "# Make predictions\n",
    "with torch.no_grad(), gpytorch.settings.fast_pred_var():\n",
    "    test_x = torch.linspace(0, 1, 51)\n",
    "    predictions = likelihood(model(test_x))\n",
    "    mean = predictions.mean\n",
    "    lower, upper = predictions.confidence_region()\n",
    "\n",
    "# This contains predictions for both tasks, flattened out\n",
    "# The first half of the predictions is for the first task\n",
    "# The second half is for the second task\n",
    "\n",
    "# Plot training data as black stars\n",
    "y1_ax.plot(train_x.detach().numpy(), train_y[:, 0].detach().numpy(), 'k*')\n",
    "# Predictive mean as blue line\n",
    "y1_ax.plot(test_x.numpy(), mean[:, 0].numpy(), 'b')\n",
    "# Shade in confidence\n",
    "y1_ax.fill_between(test_x.numpy(), lower[:, 0].numpy(), upper[:, 0].numpy(), alpha=0.5)\n",
    "y1_ax.set_ylim([-3, 3])\n",
    "y1_ax.legend(['Observed Data', 'Mean', 'Confidence'])\n",
    "y1_ax.set_title('Observed Values (Likelihood)')\n",
    "\n",
    "# Plot training data as black stars\n",
    "y2_ax.plot(train_x.detach().numpy(), train_y[:, 1].detach().numpy(), 'k*')\n",
    "# Predictive mean as blue line\n",
    "y2_ax.plot(test_x.numpy(), mean[:, 1].numpy(), 'b')\n",
    "# Shade in confidence\n",
    "y2_ax.fill_between(test_x.numpy(), lower[:, 1].numpy(), upper[:, 1].numpy(), alpha=0.5)\n",
    "y2_ax.set_ylim([-3, 3])\n",
    "y2_ax.legend(['Observed Data', 'Mean', 'Confidence'])\n",
    "y2_ax.set_title('Observed Values (Likelihood)')\n",
    "\n",
    "None"
   ]
  },
  {
   "cell_type": "code",
   "execution_count": null,
   "metadata": {},
   "outputs": [],
   "source": []
  }
 ],
 "metadata": {
  "kernelspec": {
   "display_name": "Python 3",
   "language": "python",
   "name": "python3"
  },
  "language_info": {
   "codemirror_mode": {
    "name": "ipython",
    "version": 3
   },
   "file_extension": ".py",
   "mimetype": "text/x-python",
   "name": "python",
   "nbconvert_exporter": "python",
   "pygments_lexer": "ipython3",
   "version": "3.7.4"
  }
 },
 "nbformat": 4,
 "nbformat_minor": 2
}
