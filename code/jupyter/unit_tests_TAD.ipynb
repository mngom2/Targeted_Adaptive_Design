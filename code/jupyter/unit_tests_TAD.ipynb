{
 "cells": [
  {
   "cell_type": "code",
   "execution_count": 33,
   "metadata": {},
   "outputs": [
    {
     "name": "stdout",
     "output_type": "stream",
     "text": [
      "The autoreload extension is already loaded. To reload it, use:\n",
      "  %reload_ext autoreload\n"
     ]
    }
   ],
   "source": [
    "import math\n",
    "import torch\n",
    "import gpytorch\n",
    "from matplotlib import pyplot as plt\n",
    "import sys\n",
    "sys.path.append(\"..\")\n",
    "import vvkernels as vvk\n",
    "%matplotlib inline\n",
    "%load_ext autoreload\n",
    "%autoreload 2"
   ]
  },
  {
   "cell_type": "code",
   "execution_count": 34,
   "metadata": {},
   "outputs": [],
   "source": [
    "train_x = torch.linspace(0, 1, 100)\n",
    "\n",
    "train_y = torch.stack([\n",
    "    torch.sin(train_x * (2 * math.pi)) + torch.randn(train_x.size()) * 0.2,\n",
    "    torch.cos(train_x * (2 * math.pi)) + torch.randn(train_x.size()) * 0.2,\n",
    "], -1)"
   ]
  },
  {
   "cell_type": "code",
   "execution_count": 36,
   "metadata": {},
   "outputs": [],
   "source": [
    "tpk = vvk.TensorProductKernel(gpytorch.means.ConstantMean(),gpytorch.kernels.RBFKernel(), num_tasks = 2, rank =1,  task_covar_prior=None)\n",
    "class MultitaskGPModel(gpytorch.models.ExactGP):\n",
    "    def __init__(self, train_x, train_y, likelihood):\n",
    "        super(MultitaskGPModel, self).__init__(train_x, train_y, likelihood)\n",
    "        \n",
    "        self.mean_module = tpk.get_TPK_mean()\n",
    "        self.covar_module = tpk.get_TPK_covar_module()\n",
    "\n",
    "    def forward(self, x):\n",
    "        mean_x = self.mean_module(x)\n",
    "        covar_x = self.covar_module(x)\n",
    "        return gpytorch.distributions.MultitaskMultivariateNormal(mean_x, covar_x)\n",
    "\n",
    "\n",
    "likelihood = tpk.get_gaussian_likelihood()\n",
    "model = MultitaskGPModel(train_x, train_y, likelihood)"
   ]
  },
  {
   "cell_type": "code",
   "execution_count": 37,
   "metadata": {},
   "outputs": [
    {
     "name": "stdout",
     "output_type": "stream",
     "text": [
      "Iter 1/50 - Loss: 121.508\n",
      "Iter 2/50 - Loss: 117.639\n",
      "Iter 3/50 - Loss: 113.708\n",
      "Iter 4/50 - Loss: 109.768\n",
      "Iter 5/50 - Loss: 105.826\n",
      "Iter 6/50 - Loss: 101.855\n",
      "Iter 7/50 - Loss: 97.811\n",
      "Iter 8/50 - Loss: 93.664\n",
      "Iter 9/50 - Loss: 89.436\n",
      "Iter 10/50 - Loss: 85.212\n",
      "Iter 11/50 - Loss: 81.088\n",
      "Iter 12/50 - Loss: 77.108\n",
      "Iter 13/50 - Loss: 73.234\n",
      "Iter 14/50 - Loss: 69.394\n",
      "Iter 15/50 - Loss: 65.524\n",
      "Iter 16/50 - Loss: 61.592\n",
      "Iter 17/50 - Loss: 57.588\n",
      "Iter 18/50 - Loss: 53.516\n",
      "Iter 19/50 - Loss: 49.395\n",
      "Iter 20/50 - Loss: 45.249\n",
      "Iter 21/50 - Loss: 41.109\n",
      "Iter 22/50 - Loss: 37.013\n",
      "Iter 23/50 - Loss: 32.999\n",
      "Iter 24/50 - Loss: 29.111\n",
      "Iter 25/50 - Loss: 25.383\n",
      "Iter 26/50 - Loss: 21.833\n",
      "Iter 27/50 - Loss: 18.450\n",
      "Iter 28/50 - Loss: 15.206\n",
      "Iter 29/50 - Loss: 12.076\n",
      "Iter 30/50 - Loss: 9.067\n",
      "Iter 31/50 - Loss: 6.214\n",
      "Iter 32/50 - Loss: 3.567\n",
      "Iter 33/50 - Loss: 1.161\n",
      "Iter 34/50 - Loss: -0.982\n",
      "Iter 35/50 - Loss: -2.858\n",
      "Iter 36/50 - Loss: -4.470\n",
      "Iter 37/50 - Loss: -5.823\n",
      "Iter 38/50 - Loss: -6.924\n",
      "Iter 39/50 - Loss: -7.779\n",
      "Iter 40/50 - Loss: -8.399\n",
      "Iter 41/50 - Loss: -8.797\n",
      "Iter 42/50 - Loss: -8.995\n",
      "Iter 43/50 - Loss: -9.017\n",
      "Iter 44/50 - Loss: -8.897\n",
      "Iter 45/50 - Loss: -8.672\n",
      "Iter 46/50 - Loss: -8.383\n",
      "Iter 47/50 - Loss: -8.071\n",
      "Iter 48/50 - Loss: -7.772\n",
      "Iter 49/50 - Loss: -7.517\n",
      "Iter 50/50 - Loss: -7.327\n"
     ]
    }
   ],
   "source": [
    "import os\n",
    "smoke_test = ('CI' in os.environ)\n",
    "training_iterations = 2 if smoke_test else 50\n",
    "\n",
    "\n",
    "# Find optimal model hyperparameters\n",
    "model.train()\n",
    "likelihood.train()\n",
    "\n",
    "# Use the adam optimizer\n",
    "optimizer = torch.optim.Adam(model.parameters(), lr=0.1)  # Includes GaussianLikelihood parameters\n",
    "\n",
    "# \"Loss\" for GPs - the marginal log likelihood\n",
    "mll = gpytorch.mlls.ExactMarginalLogLikelihood(likelihood, model)\n",
    "\n",
    "for i in range(training_iterations):\n",
    "    optimizer.zero_grad()\n",
    "    output = model(train_x)\n",
    "    loss = -mll(output, train_y)\n",
    "    loss.backward()\n",
    "    print('Iter %d/%d - Loss: %.3f' % (i + 1, training_iterations, loss.item()))\n",
    "    optimizer.step()"
   ]
  },
  {
   "cell_type": "code",
   "execution_count": 38,
   "metadata": {},
   "outputs": [
    {
     "data": {
      "image/png": "[encoded data removed]",
      "text/plain": [
       "<Figure size 576x216 with 2 Axes>"
      ]
     },
     "metadata": {
      "needs_background": "light"
     },
     "output_type": "display_data"
    }
   ],
   "source": [
    "# Set into eval mode\n",
    "model.eval()\n",
    "likelihood.eval()\n",
    "\n",
    "# Initialize plots\n",
    "f, (y1_ax, y2_ax) = plt.subplots(1, 2, figsize=(8, 3))\n",
    "\n",
    "# Make predictions\n",
    "with torch.no_grad(), gpytorch.settings.fast_pred_var():\n",
    "    test_x = torch.linspace(0, 1, 51)\n",
    "    predictions = likelihood(model(test_x))\n",
    "    mean = predictions.mean\n",
    "    lower, upper = predictions.confidence_region()\n",
    "\n",
    "# This contains predictions for both tasks, flattened out\n",
    "# The first half of the predictions is for the first task\n",
    "# The second half is for the second task\n",
    "\n",
    "# Plot training data as black stars\n",
    "y1_ax.plot(train_x.detach().numpy(), train_y[:, 0].detach().numpy(), 'k*')\n",
    "# Predictive mean as blue line\n",
    "y1_ax.plot(test_x.numpy(), mean[:, 0].numpy(), 'b')\n",
    "# Shade in confidence\n",
    "y1_ax.fill_between(test_x.numpy(), lower[:, 0].numpy(), upper[:, 0].numpy(), alpha=0.5)\n",
    "y1_ax.set_ylim([-3, 3])\n",
    "y1_ax.legend(['Observed Data', 'Mean', 'Confidence'])\n",
    "y1_ax.set_title('Observed Values (Likelihood)')\n",
    "\n",
    "# Plot training data as black stars\n",
    "y2_ax.plot(train_x.detach().numpy(), train_y[:, 1].detach().numpy(), 'k*')\n",
    "# Predictive mean as blue line\n",
    "y2_ax.plot(test_x.numpy(), mean[:, 1].numpy(), 'b')\n",
    "# Shade in confidence\n",
    "y2_ax.fill_between(test_x.numpy(), lower[:, 1].numpy(), upper[:, 1].numpy(), alpha=0.5)\n",
    "y2_ax.set_ylim([-3, 3])\n",
    "y2_ax.legend(['Observed Data', 'Mean', 'Confidence'])\n",
    "y2_ax.set_title('Observed Values (Likelihood)')\n",
    "\n",
    "None"
   ]
  },
  {
   "cell_type": "code",
   "execution_count": null,
   "metadata": {},
   "outputs": [],
   "source": []
  }
 ],
 "metadata": {
  "kernelspec": {
   "display_name": "Python 3",
   "language": "python",
   "name": "python3"
  },
  "language_info": {
   "codemirror_mode": {
    "name": "ipython",
    "version": 3
   },
   "file_extension": ".py",
   "mimetype": "text/x-python",
   "name": "python",
   "nbconvert_exporter": "python",
   "pygments_lexer": "ipython3",
   "version": "3.7.4"
  }
 },
 "nbformat": 4,
 "nbformat_minor": 2
}
